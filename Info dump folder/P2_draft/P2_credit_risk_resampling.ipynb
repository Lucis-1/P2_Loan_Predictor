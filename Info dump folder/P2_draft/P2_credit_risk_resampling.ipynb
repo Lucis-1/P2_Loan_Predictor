{
 "cells": [
  {
   "cell_type": "markdown",
   "metadata": {},
   "source": [
    "# Credit Risk Resampling Techniques"
   ]
  },
  {
   "cell_type": "code",
   "execution_count": 1,
   "metadata": {},
   "outputs": [],
   "source": [
    "import warnings\n",
    "warnings.filterwarnings('ignore')"
   ]
  },
  {
   "cell_type": "code",
   "execution_count": 2,
   "metadata": {},
   "outputs": [],
   "source": [
    "import numpy as np\n",
    "import pandas as pd\n",
    "from pathlib import Path\n",
    "from collections import Counter\n",
    "from sklearn.preprocessing import LabelEncoder, StandardScaler\n",
    "import seaborn as sns\n",
    "import matplotlib.pyplot as plt\n",
    "from sklearn.metrics import roc_auc_score\n",
    "from sklearn.model_selection import cross_val_score"
   ]
  },
  {
   "cell_type": "markdown",
   "metadata": {},
   "source": [
    "# Read the CSV into DataFrame"
   ]
  },
  {
   "cell_type": "code",
   "execution_count": 3,
   "metadata": {},
   "outputs": [
    {
     "data": {
      "text/html": [
       "<div>\n",
       "<style scoped>\n",
       "    .dataframe tbody tr th:only-of-type {\n",
       "        vertical-align: middle;\n",
       "    }\n",
       "\n",
       "    .dataframe tbody tr th {\n",
       "        vertical-align: top;\n",
       "    }\n",
       "\n",
       "    .dataframe thead th {\n",
       "        text-align: right;\n",
       "    }\n",
       "</style>\n",
       "<table border=\"1\" class=\"dataframe\">\n",
       "  <thead>\n",
       "    <tr style=\"text-align: right;\">\n",
       "      <th></th>\n",
       "      <th>member_id</th>\n",
       "      <th>loan</th>\n",
       "      <th>loan_amount</th>\n",
       "      <th>funded_amnt</th>\n",
       "      <th>funded_amnt_inv</th>\n",
       "      <th>term</th>\n",
       "      <th>batch_enrolled</th>\n",
       "      <th>int_rate</th>\n",
       "      <th>grade</th>\n",
       "      <th>sub_grade</th>\n",
       "      <th>...</th>\n",
       "      <th>collections_12_mths_ex_med</th>\n",
       "      <th>mths_since_last_major_derog</th>\n",
       "      <th>application_type</th>\n",
       "      <th>verification_status_joint</th>\n",
       "      <th>last_week_pay</th>\n",
       "      <th>acc_now_delinq</th>\n",
       "      <th>tot_coll_amt</th>\n",
       "      <th>tot_cur_bal</th>\n",
       "      <th>total_rev_hi_lim</th>\n",
       "      <th>loan_status</th>\n",
       "    </tr>\n",
       "  </thead>\n",
       "  <tbody>\n",
       "    <tr>\n",
       "      <th>0</th>\n",
       "      <td>70694</td>\n",
       "      <td>5000</td>\n",
       "      <td>500000</td>\n",
       "      <td>5000</td>\n",
       "      <td>350.0</td>\n",
       "      <td>36 months</td>\n",
       "      <td>BAT5869156</td>\n",
       "      <td>11.54</td>\n",
       "      <td>C</td>\n",
       "      <td>C5</td>\n",
       "      <td>...</td>\n",
       "      <td>NaN</td>\n",
       "      <td>NaN</td>\n",
       "      <td>INDIVIDUAL</td>\n",
       "      <td>NaN</td>\n",
       "      <td>35th week</td>\n",
       "      <td>0</td>\n",
       "      <td>NaN</td>\n",
       "      <td>NaN</td>\n",
       "      <td>NaN</td>\n",
       "      <td>0</td>\n",
       "    </tr>\n",
       "    <tr>\n",
       "      <th>1</th>\n",
       "      <td>92502</td>\n",
       "      <td>5000</td>\n",
       "      <td>500000</td>\n",
       "      <td>5000</td>\n",
       "      <td>250.0</td>\n",
       "      <td>36 months</td>\n",
       "      <td>NaN</td>\n",
       "      <td>7.43</td>\n",
       "      <td>A</td>\n",
       "      <td>A2</td>\n",
       "      <td>...</td>\n",
       "      <td>NaN</td>\n",
       "      <td>NaN</td>\n",
       "      <td>INDIVIDUAL</td>\n",
       "      <td>NaN</td>\n",
       "      <td>157th week</td>\n",
       "      <td>0</td>\n",
       "      <td>NaN</td>\n",
       "      <td>NaN</td>\n",
       "      <td>NaN</td>\n",
       "      <td>1</td>\n",
       "    </tr>\n",
       "    <tr>\n",
       "      <th>2</th>\n",
       "      <td>95191</td>\n",
       "      <td>20000</td>\n",
       "      <td>2000000</td>\n",
       "      <td>20000</td>\n",
       "      <td>700.0</td>\n",
       "      <td>36 months</td>\n",
       "      <td>NaN</td>\n",
       "      <td>15.01</td>\n",
       "      <td>F</td>\n",
       "      <td>F1</td>\n",
       "      <td>...</td>\n",
       "      <td>NaN</td>\n",
       "      <td>NaN</td>\n",
       "      <td>INDIVIDUAL</td>\n",
       "      <td>NaN</td>\n",
       "      <td>48th week</td>\n",
       "      <td>0</td>\n",
       "      <td>NaN</td>\n",
       "      <td>NaN</td>\n",
       "      <td>NaN</td>\n",
       "      <td>0</td>\n",
       "    </tr>\n",
       "    <tr>\n",
       "      <th>3</th>\n",
       "      <td>110482</td>\n",
       "      <td>3500</td>\n",
       "      <td>350000</td>\n",
       "      <td>3500</td>\n",
       "      <td>2575.0</td>\n",
       "      <td>36 months</td>\n",
       "      <td></td>\n",
       "      <td>12.17</td>\n",
       "      <td>D</td>\n",
       "      <td>D2</td>\n",
       "      <td>...</td>\n",
       "      <td>NaN</td>\n",
       "      <td>NaN</td>\n",
       "      <td>INDIVIDUAL</td>\n",
       "      <td>NaN</td>\n",
       "      <td>157th week</td>\n",
       "      <td>0</td>\n",
       "      <td>NaN</td>\n",
       "      <td>NaN</td>\n",
       "      <td>NaN</td>\n",
       "      <td>1</td>\n",
       "    </tr>\n",
       "    <tr>\n",
       "      <th>4</th>\n",
       "      <td>118364</td>\n",
       "      <td>16225</td>\n",
       "      <td>1622500</td>\n",
       "      <td>16225</td>\n",
       "      <td>475.0</td>\n",
       "      <td>36 months</td>\n",
       "      <td>BAT4347689</td>\n",
       "      <td>17.86</td>\n",
       "      <td>G</td>\n",
       "      <td>G5</td>\n",
       "      <td>...</td>\n",
       "      <td>NaN</td>\n",
       "      <td>NaN</td>\n",
       "      <td>INDIVIDUAL</td>\n",
       "      <td>NaN</td>\n",
       "      <td>157th week</td>\n",
       "      <td>1</td>\n",
       "      <td>NaN</td>\n",
       "      <td>NaN</td>\n",
       "      <td>NaN</td>\n",
       "      <td>1</td>\n",
       "    </tr>\n",
       "  </tbody>\n",
       "</table>\n",
       "<p>5 rows × 46 columns</p>\n",
       "</div>"
      ],
      "text/plain": [
       "   member_id  loan   loan_amount  funded_amnt  funded_amnt_inv       term  \\\n",
       "0      70694   5000       500000         5000            350.0  36 months   \n",
       "1      92502   5000       500000         5000            250.0  36 months   \n",
       "2      95191  20000      2000000        20000            700.0  36 months   \n",
       "3     110482   3500       350000         3500           2575.0  36 months   \n",
       "4     118364  16225      1622500        16225            475.0  36 months   \n",
       "\n",
       "  batch_enrolled  int_rate grade sub_grade  ... collections_12_mths_ex_med  \\\n",
       "0     BAT5869156     11.54     C        C5  ...                        NaN   \n",
       "1            NaN      7.43     A        A2  ...                        NaN   \n",
       "2            NaN     15.01     F        F1  ...                        NaN   \n",
       "3                    12.17     D        D2  ...                        NaN   \n",
       "4     BAT4347689     17.86     G        G5  ...                        NaN   \n",
       "\n",
       "  mths_since_last_major_derog application_type  verification_status_joint  \\\n",
       "0                         NaN       INDIVIDUAL                        NaN   \n",
       "1                         NaN       INDIVIDUAL                        NaN   \n",
       "2                         NaN       INDIVIDUAL                        NaN   \n",
       "3                         NaN       INDIVIDUAL                        NaN   \n",
       "4                         NaN       INDIVIDUAL                        NaN   \n",
       "\n",
       "  last_week_pay acc_now_delinq tot_coll_amt tot_cur_bal total_rev_hi_lim  \\\n",
       "0     35th week              0          NaN         NaN              NaN   \n",
       "1    157th week              0          NaN         NaN              NaN   \n",
       "2     48th week              0          NaN         NaN              NaN   \n",
       "3    157th week              0          NaN         NaN              NaN   \n",
       "4    157th week              1          NaN         NaN              NaN   \n",
       "\n",
       "  loan_status  \n",
       "0           0  \n",
       "1           1  \n",
       "2           0  \n",
       "3           1  \n",
       "4           1  \n",
       "\n",
       "[5 rows x 46 columns]"
      ]
     },
     "execution_count": 3,
     "metadata": {},
     "output_type": "execute_result"
    }
   ],
   "source": [
    "# Load the data\n",
    "file_path = Path('Resources/credit_y_n_set2.csv')\n",
    "df = pd.read_csv(file_path)\n",
    "df.head()"
   ]
  },
  {
   "cell_type": "markdown",
   "metadata": {},
   "source": [
    "## Convert result string to indicator"
   ]
  },
  {
   "cell_type": "code",
   "execution_count": 4,
   "metadata": {},
   "outputs": [
    {
     "data": {
      "text/plain": [
       "member_id                         0\n",
       "loan                              0\n",
       "loan_amount                       0\n",
       "funded_amnt                       0\n",
       "funded_amnt_inv                   0\n",
       "term                              0\n",
       "batch_enrolled                  388\n",
       "int_rate                          0\n",
       "grade                             0\n",
       "sub_grade                         0\n",
       "emp_title                       147\n",
       "emp_length                       58\n",
       "home_ownership                    0\n",
       "annual_inc                        0\n",
       "verification_status               0\n",
       "pymnt_plan                        0\n",
       "desc                            771\n",
       "purpose                           0\n",
       "title                             2\n",
       "zip_code                          0\n",
       "addr_state                        0\n",
       "dti                               0\n",
       "delinq_2yrs                       0\n",
       "inq_last_6mths                    0\n",
       "mths_since_last_delinq         1498\n",
       "mths_since_last_record         2175\n",
       "open_acc                          0\n",
       "pub_rec                           0\n",
       "revol_bal                         0\n",
       "revol_util                        1\n",
       "total_acc                         0\n",
       "initial_list_status               0\n",
       "total_rec_int                     0\n",
       "total_rec_late_fee                0\n",
       "recoveries                        0\n",
       "collection_recovery_fee           0\n",
       "collections_12_mths_ex_med        8\n",
       "mths_since_last_major_derog    2405\n",
       "application_type                  0\n",
       "verification_status_joint      2414\n",
       "last_week_pay                     0\n",
       "acc_now_delinq                    0\n",
       "tot_coll_amt                   2368\n",
       "tot_cur_bal                    2368\n",
       "total_rev_hi_lim               2368\n",
       "loan_status                       0\n",
       "dtype: int64"
      ]
     },
     "execution_count": 4,
     "metadata": {},
     "output_type": "execute_result"
    }
   ],
   "source": [
    "# Cleaning \n",
    "\n",
    "df.isnull().sum()"
   ]
  },
  {
   "cell_type": "code",
   "execution_count": 5,
   "metadata": {},
   "outputs": [
    {
     "data": {
      "text/plain": [
       "<AxesSubplot:>"
      ]
     },
     "execution_count": 5,
     "metadata": {},
     "output_type": "execute_result"
    },
    {
     "data": {
      "image/png": "[encoded data removed]",
      "text/plain": [
       "<Figure size 432x288 with 2 Axes>"
      ]
     },
     "metadata": {
      "needs_background": "light"
     },
     "output_type": "display_data"
    }
   ],
   "source": [
    "sns.heatmap(df.isnull())"
   ]
  },
  {
   "cell_type": "code",
   "execution_count": 6,
   "metadata": {},
   "outputs": [],
   "source": [
    "df_clean = df.copy()"
   ]
  },
  {
   "cell_type": "code",
   "execution_count": 7,
   "metadata": {},
   "outputs": [],
   "source": [
    "null_columns = ['batch_enrolled','emp_title', 'emp_length', 'desc', 'title', 'mths_since_last_delinq','mths_since_last_record', 'revol_util',\n",
    "                'collections_12_mths_ex_med', 'mths_since_last_major_derog', 'verification_status_joint', 'tot_coll_amt', 'tot_cur_bal', 'total_rev_hi_lim']\n",
    "df_clean.drop(null_columns, inplace=True, axis=1)"
   ]
  },
  {
   "cell_type": "code",
   "execution_count": 8,
   "metadata": {},
   "outputs": [
    {
     "data": {
      "text/html": [
       "<div>\n",
       "<style scoped>\n",
       "    .dataframe tbody tr th:only-of-type {\n",
       "        vertical-align: middle;\n",
       "    }\n",
       "\n",
       "    .dataframe tbody tr th {\n",
       "        vertical-align: top;\n",
       "    }\n",
       "\n",
       "    .dataframe thead th {\n",
       "        text-align: right;\n",
       "    }\n",
       "</style>\n",
       "<table border=\"1\" class=\"dataframe\">\n",
       "  <thead>\n",
       "    <tr style=\"text-align: right;\">\n",
       "      <th></th>\n",
       "      <th>member_id</th>\n",
       "      <th>loan</th>\n",
       "      <th>loan_amount</th>\n",
       "      <th>funded_amnt</th>\n",
       "      <th>funded_amnt_inv</th>\n",
       "      <th>term</th>\n",
       "      <th>int_rate</th>\n",
       "      <th>grade</th>\n",
       "      <th>sub_grade</th>\n",
       "      <th>home_ownership</th>\n",
       "      <th>...</th>\n",
       "      <th>total_acc</th>\n",
       "      <th>initial_list_status</th>\n",
       "      <th>total_rec_int</th>\n",
       "      <th>total_rec_late_fee</th>\n",
       "      <th>recoveries</th>\n",
       "      <th>collection_recovery_fee</th>\n",
       "      <th>application_type</th>\n",
       "      <th>last_week_pay</th>\n",
       "      <th>acc_now_delinq</th>\n",
       "      <th>loan_status</th>\n",
       "    </tr>\n",
       "  </thead>\n",
       "  <tbody>\n",
       "    <tr>\n",
       "      <th>0</th>\n",
       "      <td>70694</td>\n",
       "      <td>5000</td>\n",
       "      <td>500000</td>\n",
       "      <td>5000</td>\n",
       "      <td>350.0</td>\n",
       "      <td>36 months</td>\n",
       "      <td>11.54</td>\n",
       "      <td>C</td>\n",
       "      <td>C5</td>\n",
       "      <td>MORTGAGE</td>\n",
       "      <td>...</td>\n",
       "      <td>13</td>\n",
       "      <td>f</td>\n",
       "      <td>352.34</td>\n",
       "      <td>0.0</td>\n",
       "      <td>182.27</td>\n",
       "      <td>1.84</td>\n",
       "      <td>INDIVIDUAL</td>\n",
       "      <td>35th week</td>\n",
       "      <td>0</td>\n",
       "      <td>0</td>\n",
       "    </tr>\n",
       "    <tr>\n",
       "      <th>1</th>\n",
       "      <td>92502</td>\n",
       "      <td>5000</td>\n",
       "      <td>500000</td>\n",
       "      <td>5000</td>\n",
       "      <td>250.0</td>\n",
       "      <td>36 months</td>\n",
       "      <td>7.43</td>\n",
       "      <td>A</td>\n",
       "      <td>A2</td>\n",
       "      <td>OWN</td>\n",
       "      <td>...</td>\n",
       "      <td>19</td>\n",
       "      <td>f</td>\n",
       "      <td>593.54</td>\n",
       "      <td>0.0</td>\n",
       "      <td>0.00</td>\n",
       "      <td>0.00</td>\n",
       "      <td>INDIVIDUAL</td>\n",
       "      <td>157th week</td>\n",
       "      <td>0</td>\n",
       "      <td>1</td>\n",
       "    </tr>\n",
       "    <tr>\n",
       "      <th>2</th>\n",
       "      <td>95191</td>\n",
       "      <td>20000</td>\n",
       "      <td>2000000</td>\n",
       "      <td>20000</td>\n",
       "      <td>700.0</td>\n",
       "      <td>36 months</td>\n",
       "      <td>15.01</td>\n",
       "      <td>F</td>\n",
       "      <td>F1</td>\n",
       "      <td>OWN</td>\n",
       "      <td>...</td>\n",
       "      <td>6</td>\n",
       "      <td>f</td>\n",
       "      <td>2435.47</td>\n",
       "      <td>0.0</td>\n",
       "      <td>667.24</td>\n",
       "      <td>6.68</td>\n",
       "      <td>INDIVIDUAL</td>\n",
       "      <td>48th week</td>\n",
       "      <td>0</td>\n",
       "      <td>0</td>\n",
       "    </tr>\n",
       "    <tr>\n",
       "      <th>3</th>\n",
       "      <td>110482</td>\n",
       "      <td>3500</td>\n",
       "      <td>350000</td>\n",
       "      <td>3500</td>\n",
       "      <td>2575.0</td>\n",
       "      <td>36 months</td>\n",
       "      <td>12.17</td>\n",
       "      <td>D</td>\n",
       "      <td>D2</td>\n",
       "      <td>RENT</td>\n",
       "      <td>...</td>\n",
       "      <td>4</td>\n",
       "      <td>f</td>\n",
       "      <td>695.03</td>\n",
       "      <td>0.0</td>\n",
       "      <td>0.00</td>\n",
       "      <td>0.00</td>\n",
       "      <td>INDIVIDUAL</td>\n",
       "      <td>157th week</td>\n",
       "      <td>0</td>\n",
       "      <td>1</td>\n",
       "    </tr>\n",
       "    <tr>\n",
       "      <th>4</th>\n",
       "      <td>118364</td>\n",
       "      <td>16225</td>\n",
       "      <td>1622500</td>\n",
       "      <td>16225</td>\n",
       "      <td>475.0</td>\n",
       "      <td>36 months</td>\n",
       "      <td>17.86</td>\n",
       "      <td>G</td>\n",
       "      <td>G5</td>\n",
       "      <td>MORTGAGE</td>\n",
       "      <td>...</td>\n",
       "      <td>20</td>\n",
       "      <td>f</td>\n",
       "      <td>4848.88</td>\n",
       "      <td>0.0</td>\n",
       "      <td>0.00</td>\n",
       "      <td>0.00</td>\n",
       "      <td>INDIVIDUAL</td>\n",
       "      <td>157th week</td>\n",
       "      <td>1</td>\n",
       "      <td>1</td>\n",
       "    </tr>\n",
       "    <tr>\n",
       "      <th>...</th>\n",
       "      <td>...</td>\n",
       "      <td>...</td>\n",
       "      <td>...</td>\n",
       "      <td>...</td>\n",
       "      <td>...</td>\n",
       "      <td>...</td>\n",
       "      <td>...</td>\n",
       "      <td>...</td>\n",
       "      <td>...</td>\n",
       "      <td>...</td>\n",
       "      <td>...</td>\n",
       "      <td>...</td>\n",
       "      <td>...</td>\n",
       "      <td>...</td>\n",
       "      <td>...</td>\n",
       "      <td>...</td>\n",
       "      <td>...</td>\n",
       "      <td>...</td>\n",
       "      <td>...</td>\n",
       "      <td>...</td>\n",
       "      <td>...</td>\n",
       "    </tr>\n",
       "    <tr>\n",
       "      <th>2409</th>\n",
       "      <td>1046542</td>\n",
       "      <td>18000</td>\n",
       "      <td>1800000</td>\n",
       "      <td>18000</td>\n",
       "      <td>18000.0</td>\n",
       "      <td>60 months</td>\n",
       "      <td>15.99</td>\n",
       "      <td>D</td>\n",
       "      <td>D2</td>\n",
       "      <td>RENT</td>\n",
       "      <td>...</td>\n",
       "      <td>29</td>\n",
       "      <td>f</td>\n",
       "      <td>8029.91</td>\n",
       "      <td>0.0</td>\n",
       "      <td>0.00</td>\n",
       "      <td>0.00</td>\n",
       "      <td>INDIVIDUAL</td>\n",
       "      <td>226th week</td>\n",
       "      <td>0</td>\n",
       "      <td>0</td>\n",
       "    </tr>\n",
       "    <tr>\n",
       "      <th>2410</th>\n",
       "      <td>1046606</td>\n",
       "      <td>25000</td>\n",
       "      <td>2500000</td>\n",
       "      <td>25000</td>\n",
       "      <td>24700.0</td>\n",
       "      <td>60 months</td>\n",
       "      <td>15.99</td>\n",
       "      <td>D</td>\n",
       "      <td>D2</td>\n",
       "      <td>RENT</td>\n",
       "      <td>...</td>\n",
       "      <td>11</td>\n",
       "      <td>f</td>\n",
       "      <td>11227.04</td>\n",
       "      <td>0.0</td>\n",
       "      <td>0.00</td>\n",
       "      <td>0.00</td>\n",
       "      <td>INDIVIDUAL</td>\n",
       "      <td>231th week</td>\n",
       "      <td>0</td>\n",
       "      <td>0</td>\n",
       "    </tr>\n",
       "    <tr>\n",
       "      <th>2411</th>\n",
       "      <td>1046615</td>\n",
       "      <td>8400</td>\n",
       "      <td>840000</td>\n",
       "      <td>8400</td>\n",
       "      <td>8400.0</td>\n",
       "      <td>36 months</td>\n",
       "      <td>11.49</td>\n",
       "      <td>B</td>\n",
       "      <td>B4</td>\n",
       "      <td>RENT</td>\n",
       "      <td>...</td>\n",
       "      <td>11</td>\n",
       "      <td>f</td>\n",
       "      <td>1565.02</td>\n",
       "      <td>0.0</td>\n",
       "      <td>0.00</td>\n",
       "      <td>0.00</td>\n",
       "      <td>INDIVIDUAL</td>\n",
       "      <td>157th week</td>\n",
       "      <td>0</td>\n",
       "      <td>1</td>\n",
       "    </tr>\n",
       "    <tr>\n",
       "      <th>2412</th>\n",
       "      <td>1047025</td>\n",
       "      <td>4000</td>\n",
       "      <td>400000</td>\n",
       "      <td>4000</td>\n",
       "      <td>4000.0</td>\n",
       "      <td>36 months</td>\n",
       "      <td>5.99</td>\n",
       "      <td>A</td>\n",
       "      <td>A2</td>\n",
       "      <td>RENT</td>\n",
       "      <td>...</td>\n",
       "      <td>18</td>\n",
       "      <td>f</td>\n",
       "      <td>95.45</td>\n",
       "      <td>0.0</td>\n",
       "      <td>0.00</td>\n",
       "      <td>0.00</td>\n",
       "      <td>INDIVIDUAL</td>\n",
       "      <td>22th week</td>\n",
       "      <td>0</td>\n",
       "      <td>1</td>\n",
       "    </tr>\n",
       "    <tr>\n",
       "      <th>2413</th>\n",
       "      <td>1047261</td>\n",
       "      <td>25500</td>\n",
       "      <td>2550000</td>\n",
       "      <td>25500</td>\n",
       "      <td>25250.0</td>\n",
       "      <td>60 months</td>\n",
       "      <td>11.99</td>\n",
       "      <td>B</td>\n",
       "      <td>B5</td>\n",
       "      <td>RENT</td>\n",
       "      <td>...</td>\n",
       "      <td>23</td>\n",
       "      <td>f</td>\n",
       "      <td>4460.98</td>\n",
       "      <td>0.0</td>\n",
       "      <td>0.00</td>\n",
       "      <td>0.00</td>\n",
       "      <td>INDIVIDUAL</td>\n",
       "      <td>87th week</td>\n",
       "      <td>0</td>\n",
       "      <td>1</td>\n",
       "    </tr>\n",
       "  </tbody>\n",
       "</table>\n",
       "<p>2414 rows × 32 columns</p>\n",
       "</div>"
      ],
      "text/plain": [
       "      member_id  loan   loan_amount  funded_amnt  funded_amnt_inv       term  \\\n",
       "0         70694   5000       500000         5000            350.0  36 months   \n",
       "1         92502   5000       500000         5000            250.0  36 months   \n",
       "2         95191  20000      2000000        20000            700.0  36 months   \n",
       "3        110482   3500       350000         3500           2575.0  36 months   \n",
       "4        118364  16225      1622500        16225            475.0  36 months   \n",
       "...         ...    ...          ...          ...              ...        ...   \n",
       "2409    1046542  18000      1800000        18000          18000.0  60 months   \n",
       "2410    1046606  25000      2500000        25000          24700.0  60 months   \n",
       "2411    1046615   8400       840000         8400           8400.0  36 months   \n",
       "2412    1047025   4000       400000         4000           4000.0  36 months   \n",
       "2413    1047261  25500      2550000        25500          25250.0  60 months   \n",
       "\n",
       "      int_rate grade sub_grade home_ownership  ...  total_acc  \\\n",
       "0        11.54     C        C5       MORTGAGE  ...         13   \n",
       "1         7.43     A        A2            OWN  ...         19   \n",
       "2        15.01     F        F1            OWN  ...          6   \n",
       "3        12.17     D        D2           RENT  ...          4   \n",
       "4        17.86     G        G5       MORTGAGE  ...         20   \n",
       "...        ...   ...       ...            ...  ...        ...   \n",
       "2409     15.99     D        D2           RENT  ...         29   \n",
       "2410     15.99     D        D2           RENT  ...         11   \n",
       "2411     11.49     B        B4           RENT  ...         11   \n",
       "2412      5.99     A        A2           RENT  ...         18   \n",
       "2413     11.99     B        B5           RENT  ...         23   \n",
       "\n",
       "     initial_list_status total_rec_int total_rec_late_fee recoveries  \\\n",
       "0                      f        352.34                0.0     182.27   \n",
       "1                      f        593.54                0.0       0.00   \n",
       "2                      f       2435.47                0.0     667.24   \n",
       "3                      f        695.03                0.0       0.00   \n",
       "4                      f       4848.88                0.0       0.00   \n",
       "...                  ...           ...                ...        ...   \n",
       "2409                   f       8029.91                0.0       0.00   \n",
       "2410                   f      11227.04                0.0       0.00   \n",
       "2411                   f       1565.02                0.0       0.00   \n",
       "2412                   f         95.45                0.0       0.00   \n",
       "2413                   f       4460.98                0.0       0.00   \n",
       "\n",
       "     collection_recovery_fee  application_type  last_week_pay  acc_now_delinq  \\\n",
       "0                       1.84        INDIVIDUAL      35th week               0   \n",
       "1                       0.00        INDIVIDUAL     157th week               0   \n",
       "2                       6.68        INDIVIDUAL      48th week               0   \n",
       "3                       0.00        INDIVIDUAL     157th week               0   \n",
       "4                       0.00        INDIVIDUAL     157th week               1   \n",
       "...                      ...               ...            ...             ...   \n",
       "2409                    0.00        INDIVIDUAL     226th week               0   \n",
       "2410                    0.00        INDIVIDUAL     231th week               0   \n",
       "2411                    0.00        INDIVIDUAL     157th week               0   \n",
       "2412                    0.00        INDIVIDUAL      22th week               0   \n",
       "2413                    0.00        INDIVIDUAL      87th week               0   \n",
       "\n",
       "      loan_status  \n",
       "0               0  \n",
       "1               1  \n",
       "2               0  \n",
       "3               1  \n",
       "4               1  \n",
       "...           ...  \n",
       "2409            0  \n",
       "2410            0  \n",
       "2411            1  \n",
       "2412            1  \n",
       "2413            1  \n",
       "\n",
       "[2414 rows x 32 columns]"
      ]
     },
     "execution_count": 8,
     "metadata": {},
     "output_type": "execute_result"
    }
   ],
   "source": [
    "df_clean"
   ]
  },
  {
   "cell_type": "code",
   "execution_count": 9,
   "metadata": {},
   "outputs": [
    {
     "data": {
      "text/html": [
       "<div>\n",
       "<style scoped>\n",
       "    .dataframe tbody tr th:only-of-type {\n",
       "        vertical-align: middle;\n",
       "    }\n",
       "\n",
       "    .dataframe tbody tr th {\n",
       "        vertical-align: top;\n",
       "    }\n",
       "\n",
       "    .dataframe thead th {\n",
       "        text-align: right;\n",
       "    }\n",
       "</style>\n",
       "<table border=\"1\" class=\"dataframe\">\n",
       "  <thead>\n",
       "    <tr style=\"text-align: right;\">\n",
       "      <th></th>\n",
       "      <th>member_id</th>\n",
       "      <th>loan</th>\n",
       "      <th>loan_amount</th>\n",
       "      <th>funded_amnt</th>\n",
       "      <th>funded_amnt_inv</th>\n",
       "      <th>int_rate</th>\n",
       "      <th>annual_inc</th>\n",
       "      <th>dti</th>\n",
       "      <th>delinq_2yrs</th>\n",
       "      <th>inq_last_6mths</th>\n",
       "      <th>open_acc</th>\n",
       "      <th>pub_rec</th>\n",
       "      <th>revol_bal</th>\n",
       "      <th>total_acc</th>\n",
       "      <th>total_rec_int</th>\n",
       "      <th>total_rec_late_fee</th>\n",
       "      <th>recoveries</th>\n",
       "      <th>collection_recovery_fee</th>\n",
       "      <th>acc_now_delinq</th>\n",
       "      <th>loan_status</th>\n",
       "    </tr>\n",
       "  </thead>\n",
       "  <tbody>\n",
       "    <tr>\n",
       "      <th>0</th>\n",
       "      <td>70694</td>\n",
       "      <td>5000</td>\n",
       "      <td>500000</td>\n",
       "      <td>5000</td>\n",
       "      <td>350.0</td>\n",
       "      <td>11.54</td>\n",
       "      <td>55000.0</td>\n",
       "      <td>10.00</td>\n",
       "      <td>0</td>\n",
       "      <td>4</td>\n",
       "      <td>6</td>\n",
       "      <td>0</td>\n",
       "      <td>2447</td>\n",
       "      <td>13</td>\n",
       "      <td>352.34</td>\n",
       "      <td>0.0</td>\n",
       "      <td>182.27</td>\n",
       "      <td>1.84</td>\n",
       "      <td>0</td>\n",
       "      <td>0</td>\n",
       "    </tr>\n",
       "    <tr>\n",
       "      <th>1</th>\n",
       "      <td>92502</td>\n",
       "      <td>5000</td>\n",
       "      <td>500000</td>\n",
       "      <td>5000</td>\n",
       "      <td>250.0</td>\n",
       "      <td>7.43</td>\n",
       "      <td>85000.0</td>\n",
       "      <td>0.31</td>\n",
       "      <td>0</td>\n",
       "      <td>0</td>\n",
       "      <td>7</td>\n",
       "      <td>0</td>\n",
       "      <td>216</td>\n",
       "      <td>19</td>\n",
       "      <td>593.54</td>\n",
       "      <td>0.0</td>\n",
       "      <td>0.00</td>\n",
       "      <td>0.00</td>\n",
       "      <td>0</td>\n",
       "      <td>1</td>\n",
       "    </tr>\n",
       "    <tr>\n",
       "      <th>2</th>\n",
       "      <td>95191</td>\n",
       "      <td>20000</td>\n",
       "      <td>2000000</td>\n",
       "      <td>20000</td>\n",
       "      <td>700.0</td>\n",
       "      <td>15.01</td>\n",
       "      <td>80000.0</td>\n",
       "      <td>3.11</td>\n",
       "      <td>1</td>\n",
       "      <td>6</td>\n",
       "      <td>5</td>\n",
       "      <td>0</td>\n",
       "      <td>7883</td>\n",
       "      <td>6</td>\n",
       "      <td>2435.47</td>\n",
       "      <td>0.0</td>\n",
       "      <td>667.24</td>\n",
       "      <td>6.68</td>\n",
       "      <td>0</td>\n",
       "      <td>0</td>\n",
       "    </tr>\n",
       "  </tbody>\n",
       "</table>\n",
       "</div>"
      ],
      "text/plain": [
       "   member_id  loan   loan_amount  funded_amnt  funded_amnt_inv  int_rate  \\\n",
       "0      70694   5000       500000         5000            350.0     11.54   \n",
       "1      92502   5000       500000         5000            250.0      7.43   \n",
       "2      95191  20000      2000000        20000            700.0     15.01   \n",
       "\n",
       "   annual_inc    dti  delinq_2yrs  inq_last_6mths  open_acc  pub_rec  \\\n",
       "0     55000.0  10.00            0               4         6        0   \n",
       "1     85000.0   0.31            0               0         7        0   \n",
       "2     80000.0   3.11            1               6         5        0   \n",
       "\n",
       "   revol_bal  total_acc  total_rec_int  total_rec_late_fee  recoveries  \\\n",
       "0       2447         13         352.34                 0.0      182.27   \n",
       "1        216         19         593.54                 0.0        0.00   \n",
       "2       7883          6        2435.47                 0.0      667.24   \n",
       "\n",
       "   collection_recovery_fee  acc_now_delinq  loan_status  \n",
       "0                     1.84               0            0  \n",
       "1                     0.00               0            1  \n",
       "2                     6.68               0            0  "
      ]
     },
     "execution_count": 9,
     "metadata": {},
     "output_type": "execute_result"
    }
   ],
   "source": [
    "## getting numeric columns\n",
    "numerics = ['int16', 'int32', 'int64', 'float16', 'float32', 'float64']\n",
    "num = df_clean.select_dtypes(include=numerics).columns\n",
    "num\n",
    "df_clean[num].head(3)"
   ]
  },
  {
   "cell_type": "code",
   "execution_count": 10,
   "metadata": {},
   "outputs": [
    {
     "data": {
      "text/html": [
       "<div>\n",
       "<style scoped>\n",
       "    .dataframe tbody tr th:only-of-type {\n",
       "        vertical-align: middle;\n",
       "    }\n",
       "\n",
       "    .dataframe tbody tr th {\n",
       "        vertical-align: top;\n",
       "    }\n",
       "\n",
       "    .dataframe thead th {\n",
       "        text-align: right;\n",
       "    }\n",
       "</style>\n",
       "<table border=\"1\" class=\"dataframe\">\n",
       "  <thead>\n",
       "    <tr style=\"text-align: right;\">\n",
       "      <th></th>\n",
       "      <th>term</th>\n",
       "      <th>grade</th>\n",
       "      <th>sub_grade</th>\n",
       "      <th>home_ownership</th>\n",
       "      <th>verification_status</th>\n",
       "      <th>pymnt_plan</th>\n",
       "      <th>purpose</th>\n",
       "      <th>zip_code</th>\n",
       "      <th>addr_state</th>\n",
       "      <th>initial_list_status</th>\n",
       "      <th>application_type</th>\n",
       "      <th>last_week_pay</th>\n",
       "    </tr>\n",
       "  </thead>\n",
       "  <tbody>\n",
       "    <tr>\n",
       "      <th>0</th>\n",
       "      <td>36 months</td>\n",
       "      <td>C</td>\n",
       "      <td>C5</td>\n",
       "      <td>MORTGAGE</td>\n",
       "      <td>Not Verified</td>\n",
       "      <td>n</td>\n",
       "      <td>other</td>\n",
       "      <td>287xx</td>\n",
       "      <td>NC</td>\n",
       "      <td>f</td>\n",
       "      <td>INDIVIDUAL</td>\n",
       "      <td>35th week</td>\n",
       "    </tr>\n",
       "    <tr>\n",
       "      <th>1</th>\n",
       "      <td>36 months</td>\n",
       "      <td>A</td>\n",
       "      <td>A2</td>\n",
       "      <td>OWN</td>\n",
       "      <td>Not Verified</td>\n",
       "      <td>n</td>\n",
       "      <td>credit_card</td>\n",
       "      <td>537xx</td>\n",
       "      <td>WI</td>\n",
       "      <td>f</td>\n",
       "      <td>INDIVIDUAL</td>\n",
       "      <td>157th week</td>\n",
       "    </tr>\n",
       "    <tr>\n",
       "      <th>2</th>\n",
       "      <td>36 months</td>\n",
       "      <td>F</td>\n",
       "      <td>F1</td>\n",
       "      <td>OWN</td>\n",
       "      <td>Not Verified</td>\n",
       "      <td>n</td>\n",
       "      <td>credit_card</td>\n",
       "      <td>333xx</td>\n",
       "      <td>FL</td>\n",
       "      <td>f</td>\n",
       "      <td>INDIVIDUAL</td>\n",
       "      <td>48th week</td>\n",
       "    </tr>\n",
       "  </tbody>\n",
       "</table>\n",
       "</div>"
      ],
      "text/plain": [
       "        term grade sub_grade home_ownership verification_status pymnt_plan  \\\n",
       "0  36 months     C        C5       MORTGAGE        Not Verified          n   \n",
       "1  36 months     A        A2            OWN        Not Verified          n   \n",
       "2  36 months     F        F1            OWN        Not Verified          n   \n",
       "\n",
       "       purpose zip_code addr_state initial_list_status application_type  \\\n",
       "0        other    287xx         NC                   f       INDIVIDUAL   \n",
       "1  credit_card    537xx         WI                   f       INDIVIDUAL   \n",
       "2  credit_card    333xx         FL                   f       INDIVIDUAL   \n",
       "\n",
       "  last_week_pay  \n",
       "0     35th week  \n",
       "1    157th week  \n",
       "2     48th week  "
      ]
     },
     "execution_count": 10,
     "metadata": {},
     "output_type": "execute_result"
    }
   ],
   "source": [
    "## getting categorical columns\n",
    "cat = df_clean.drop(num,axis=1)\n",
    "cat = cat.columns\n",
    "df_clean[cat].head(3)"
   ]
  },
  {
   "cell_type": "code",
   "execution_count": 11,
   "metadata": {},
   "outputs": [
    {
     "data": {
      "text/html": [
       "<div>\n",
       "<style scoped>\n",
       "    .dataframe tbody tr th:only-of-type {\n",
       "        vertical-align: middle;\n",
       "    }\n",
       "\n",
       "    .dataframe tbody tr th {\n",
       "        vertical-align: top;\n",
       "    }\n",
       "\n",
       "    .dataframe thead th {\n",
       "        text-align: right;\n",
       "    }\n",
       "</style>\n",
       "<table border=\"1\" class=\"dataframe\">\n",
       "  <thead>\n",
       "    <tr style=\"text-align: right;\">\n",
       "      <th></th>\n",
       "      <th>member_id</th>\n",
       "      <th>loan</th>\n",
       "      <th>loan_amount</th>\n",
       "      <th>funded_amnt</th>\n",
       "      <th>funded_amnt_inv</th>\n",
       "      <th>int_rate</th>\n",
       "      <th>annual_inc</th>\n",
       "      <th>dti</th>\n",
       "      <th>delinq_2yrs</th>\n",
       "      <th>inq_last_6mths</th>\n",
       "      <th>open_acc</th>\n",
       "      <th>pub_rec</th>\n",
       "      <th>revol_bal</th>\n",
       "      <th>total_acc</th>\n",
       "      <th>total_rec_int</th>\n",
       "      <th>total_rec_late_fee</th>\n",
       "      <th>recoveries</th>\n",
       "      <th>collection_recovery_fee</th>\n",
       "      <th>acc_now_delinq</th>\n",
       "      <th>loan_status</th>\n",
       "    </tr>\n",
       "  </thead>\n",
       "  <tbody>\n",
       "    <tr>\n",
       "      <th>member_id</th>\n",
       "      <td>1.000000</td>\n",
       "      <td>0.110424</td>\n",
       "      <td>0.110424</td>\n",
       "      <td>0.110821</td>\n",
       "      <td>0.280674</td>\n",
       "      <td>0.014004</td>\n",
       "      <td>0.013144</td>\n",
       "      <td>0.068410</td>\n",
       "      <td>-0.023942</td>\n",
       "      <td>-0.209187</td>\n",
       "      <td>0.034204</td>\n",
       "      <td>-0.033624</td>\n",
       "      <td>-0.055076</td>\n",
       "      <td>0.061665</td>\n",
       "      <td>0.159336</td>\n",
       "      <td>-0.094982</td>\n",
       "      <td>0.017169</td>\n",
       "      <td>-0.013945</td>\n",
       "      <td>-0.056849</td>\n",
       "      <td>-0.074892</td>\n",
       "    </tr>\n",
       "    <tr>\n",
       "      <th>loan</th>\n",
       "      <td>0.110424</td>\n",
       "      <td>1.000000</td>\n",
       "      <td>1.000000</td>\n",
       "      <td>0.980086</td>\n",
       "      <td>0.913507</td>\n",
       "      <td>0.271344</td>\n",
       "      <td>0.311589</td>\n",
       "      <td>0.072588</td>\n",
       "      <td>-0.014643</td>\n",
       "      <td>-0.041757</td>\n",
       "      <td>0.183522</td>\n",
       "      <td>-0.018902</td>\n",
       "      <td>0.260171</td>\n",
       "      <td>0.252244</td>\n",
       "      <td>0.698536</td>\n",
       "      <td>0.032027</td>\n",
       "      <td>0.115409</td>\n",
       "      <td>0.066524</td>\n",
       "      <td>0.015880</td>\n",
       "      <td>-0.126921</td>\n",
       "    </tr>\n",
       "    <tr>\n",
       "      <th>loan_amount</th>\n",
       "      <td>0.110424</td>\n",
       "      <td>1.000000</td>\n",
       "      <td>1.000000</td>\n",
       "      <td>0.980086</td>\n",
       "      <td>0.913507</td>\n",
       "      <td>0.271344</td>\n",
       "      <td>0.311589</td>\n",
       "      <td>0.072588</td>\n",
       "      <td>-0.014643</td>\n",
       "      <td>-0.041757</td>\n",
       "      <td>0.183522</td>\n",
       "      <td>-0.018902</td>\n",
       "      <td>0.260171</td>\n",
       "      <td>0.252244</td>\n",
       "      <td>0.698536</td>\n",
       "      <td>0.032027</td>\n",
       "      <td>0.115409</td>\n",
       "      <td>0.066524</td>\n",
       "      <td>0.015880</td>\n",
       "      <td>-0.126921</td>\n",
       "    </tr>\n",
       "    <tr>\n",
       "      <th>funded_amnt</th>\n",
       "      <td>0.110821</td>\n",
       "      <td>0.980086</td>\n",
       "      <td>0.980086</td>\n",
       "      <td>1.000000</td>\n",
       "      <td>0.931654</td>\n",
       "      <td>0.275857</td>\n",
       "      <td>0.312008</td>\n",
       "      <td>0.071150</td>\n",
       "      <td>-0.013592</td>\n",
       "      <td>-0.040907</td>\n",
       "      <td>0.174512</td>\n",
       "      <td>-0.021536</td>\n",
       "      <td>0.255548</td>\n",
       "      <td>0.236645</td>\n",
       "      <td>0.700894</td>\n",
       "      <td>0.036484</td>\n",
       "      <td>0.118513</td>\n",
       "      <td>0.069710</td>\n",
       "      <td>0.017406</td>\n",
       "      <td>-0.122783</td>\n",
       "    </tr>\n",
       "    <tr>\n",
       "      <th>funded_amnt_inv</th>\n",
       "      <td>0.280674</td>\n",
       "      <td>0.913507</td>\n",
       "      <td>0.913507</td>\n",
       "      <td>0.931654</td>\n",
       "      <td>1.000000</td>\n",
       "      <td>0.263033</td>\n",
       "      <td>0.295785</td>\n",
       "      <td>0.077637</td>\n",
       "      <td>-0.027579</td>\n",
       "      <td>-0.087884</td>\n",
       "      <td>0.155806</td>\n",
       "      <td>-0.029232</td>\n",
       "      <td>0.207110</td>\n",
       "      <td>0.226952</td>\n",
       "      <td>0.684940</td>\n",
       "      <td>-0.007902</td>\n",
       "      <td>0.092350</td>\n",
       "      <td>0.047204</td>\n",
       "      <td>-0.028659</td>\n",
       "      <td>-0.092950</td>\n",
       "    </tr>\n",
       "    <tr>\n",
       "      <th>int_rate</th>\n",
       "      <td>0.014004</td>\n",
       "      <td>0.271344</td>\n",
       "      <td>0.271344</td>\n",
       "      <td>0.275857</td>\n",
       "      <td>0.263033</td>\n",
       "      <td>1.000000</td>\n",
       "      <td>0.068087</td>\n",
       "      <td>0.106725</td>\n",
       "      <td>0.170373</td>\n",
       "      <td>0.179780</td>\n",
       "      <td>0.016725</td>\n",
       "      <td>0.122628</td>\n",
       "      <td>0.054111</td>\n",
       "      <td>-0.040625</td>\n",
       "      <td>0.511407</td>\n",
       "      <td>0.067418</td>\n",
       "      <td>0.111547</td>\n",
       "      <td>0.057986</td>\n",
       "      <td>0.032420</td>\n",
       "      <td>-0.228974</td>\n",
       "    </tr>\n",
       "    <tr>\n",
       "      <th>annual_inc</th>\n",
       "      <td>0.013144</td>\n",
       "      <td>0.311589</td>\n",
       "      <td>0.311589</td>\n",
       "      <td>0.312008</td>\n",
       "      <td>0.295785</td>\n",
       "      <td>0.068087</td>\n",
       "      <td>1.000000</td>\n",
       "      <td>-0.151943</td>\n",
       "      <td>0.006511</td>\n",
       "      <td>0.009654</td>\n",
       "      <td>0.187541</td>\n",
       "      <td>-0.004419</td>\n",
       "      <td>0.280483</td>\n",
       "      <td>0.267173</td>\n",
       "      <td>0.226891</td>\n",
       "      <td>0.004370</td>\n",
       "      <td>0.001940</td>\n",
       "      <td>-0.004222</td>\n",
       "      <td>0.016351</td>\n",
       "      <td>0.022438</td>\n",
       "    </tr>\n",
       "    <tr>\n",
       "      <th>dti</th>\n",
       "      <td>0.068410</td>\n",
       "      <td>0.072588</td>\n",
       "      <td>0.072588</td>\n",
       "      <td>0.071150</td>\n",
       "      <td>0.077637</td>\n",
       "      <td>0.106725</td>\n",
       "      <td>-0.151943</td>\n",
       "      <td>1.000000</td>\n",
       "      <td>-0.010906</td>\n",
       "      <td>-0.001984</td>\n",
       "      <td>0.292671</td>\n",
       "      <td>-0.001355</td>\n",
       "      <td>0.184564</td>\n",
       "      <td>0.228875</td>\n",
       "      <td>0.094713</td>\n",
       "      <td>-0.021718</td>\n",
       "      <td>-0.005662</td>\n",
       "      <td>-0.018023</td>\n",
       "      <td>0.001674</td>\n",
       "      <td>-0.046470</td>\n",
       "    </tr>\n",
       "    <tr>\n",
       "      <th>delinq_2yrs</th>\n",
       "      <td>-0.023942</td>\n",
       "      <td>-0.014643</td>\n",
       "      <td>-0.014643</td>\n",
       "      <td>-0.013592</td>\n",
       "      <td>-0.027579</td>\n",
       "      <td>0.170373</td>\n",
       "      <td>0.006511</td>\n",
       "      <td>-0.010906</td>\n",
       "      <td>1.000000</td>\n",
       "      <td>-0.003876</td>\n",
       "      <td>0.017354</td>\n",
       "      <td>0.005944</td>\n",
       "      <td>-0.045800</td>\n",
       "      <td>0.054701</td>\n",
       "      <td>0.031463</td>\n",
       "      <td>0.065780</td>\n",
       "      <td>0.031310</td>\n",
       "      <td>0.022787</td>\n",
       "      <td>0.034098</td>\n",
       "      <td>-0.006626</td>\n",
       "    </tr>\n",
       "    <tr>\n",
       "      <th>inq_last_6mths</th>\n",
       "      <td>-0.209187</td>\n",
       "      <td>-0.041757</td>\n",
       "      <td>-0.041757</td>\n",
       "      <td>-0.040907</td>\n",
       "      <td>-0.087884</td>\n",
       "      <td>0.179780</td>\n",
       "      <td>0.009654</td>\n",
       "      <td>-0.001984</td>\n",
       "      <td>-0.003876</td>\n",
       "      <td>1.000000</td>\n",
       "      <td>0.087251</td>\n",
       "      <td>0.076561</td>\n",
       "      <td>-0.000484</td>\n",
       "      <td>0.068498</td>\n",
       "      <td>-0.032920</td>\n",
       "      <td>0.036885</td>\n",
       "      <td>0.062572</td>\n",
       "      <td>0.053205</td>\n",
       "      <td>-0.014460</td>\n",
       "      <td>-0.075137</td>\n",
       "    </tr>\n",
       "    <tr>\n",
       "      <th>open_acc</th>\n",
       "      <td>0.034204</td>\n",
       "      <td>0.183522</td>\n",
       "      <td>0.183522</td>\n",
       "      <td>0.174512</td>\n",
       "      <td>0.155806</td>\n",
       "      <td>0.016725</td>\n",
       "      <td>0.187541</td>\n",
       "      <td>0.292671</td>\n",
       "      <td>0.017354</td>\n",
       "      <td>0.087251</td>\n",
       "      <td>1.000000</td>\n",
       "      <td>0.019614</td>\n",
       "      <td>0.256815</td>\n",
       "      <td>0.692617</td>\n",
       "      <td>0.138998</td>\n",
       "      <td>-0.053863</td>\n",
       "      <td>-0.006734</td>\n",
       "      <td>0.000586</td>\n",
       "      <td>0.028632</td>\n",
       "      <td>0.015594</td>\n",
       "    </tr>\n",
       "    <tr>\n",
       "      <th>pub_rec</th>\n",
       "      <td>-0.033624</td>\n",
       "      <td>-0.018902</td>\n",
       "      <td>-0.018902</td>\n",
       "      <td>-0.021536</td>\n",
       "      <td>-0.029232</td>\n",
       "      <td>0.122628</td>\n",
       "      <td>-0.004419</td>\n",
       "      <td>-0.001355</td>\n",
       "      <td>0.005944</td>\n",
       "      <td>0.076561</td>\n",
       "      <td>0.019614</td>\n",
       "      <td>1.000000</td>\n",
       "      <td>-0.044910</td>\n",
       "      <td>-0.019346</td>\n",
       "      <td>0.020799</td>\n",
       "      <td>-0.028457</td>\n",
       "      <td>0.013801</td>\n",
       "      <td>0.024449</td>\n",
       "      <td>-0.004786</td>\n",
       "      <td>-0.018505</td>\n",
       "    </tr>\n",
       "    <tr>\n",
       "      <th>revol_bal</th>\n",
       "      <td>-0.055076</td>\n",
       "      <td>0.260171</td>\n",
       "      <td>0.260171</td>\n",
       "      <td>0.255548</td>\n",
       "      <td>0.207110</td>\n",
       "      <td>0.054111</td>\n",
       "      <td>0.280483</td>\n",
       "      <td>0.184564</td>\n",
       "      <td>-0.045800</td>\n",
       "      <td>-0.000484</td>\n",
       "      <td>0.256815</td>\n",
       "      <td>-0.044910</td>\n",
       "      <td>1.000000</td>\n",
       "      <td>0.289232</td>\n",
       "      <td>0.172082</td>\n",
       "      <td>0.020621</td>\n",
       "      <td>0.009898</td>\n",
       "      <td>-0.001391</td>\n",
       "      <td>-0.013300</td>\n",
       "      <td>-0.046237</td>\n",
       "    </tr>\n",
       "    <tr>\n",
       "      <th>total_acc</th>\n",
       "      <td>0.061665</td>\n",
       "      <td>0.252244</td>\n",
       "      <td>0.252244</td>\n",
       "      <td>0.236645</td>\n",
       "      <td>0.226952</td>\n",
       "      <td>-0.040625</td>\n",
       "      <td>0.267173</td>\n",
       "      <td>0.228875</td>\n",
       "      <td>0.054701</td>\n",
       "      <td>0.068498</td>\n",
       "      <td>0.692617</td>\n",
       "      <td>-0.019346</td>\n",
       "      <td>0.289232</td>\n",
       "      <td>1.000000</td>\n",
       "      <td>0.142320</td>\n",
       "      <td>-0.054941</td>\n",
       "      <td>-0.017114</td>\n",
       "      <td>-0.012146</td>\n",
       "      <td>-0.004096</td>\n",
       "      <td>0.024289</td>\n",
       "    </tr>\n",
       "    <tr>\n",
       "      <th>total_rec_int</th>\n",
       "      <td>0.159336</td>\n",
       "      <td>0.698536</td>\n",
       "      <td>0.698536</td>\n",
       "      <td>0.700894</td>\n",
       "      <td>0.684940</td>\n",
       "      <td>0.511407</td>\n",
       "      <td>0.226891</td>\n",
       "      <td>0.094713</td>\n",
       "      <td>0.031463</td>\n",
       "      <td>-0.032920</td>\n",
       "      <td>0.138998</td>\n",
       "      <td>0.020799</td>\n",
       "      <td>0.172082</td>\n",
       "      <td>0.142320</td>\n",
       "      <td>1.000000</td>\n",
       "      <td>0.035991</td>\n",
       "      <td>0.040328</td>\n",
       "      <td>0.011908</td>\n",
       "      <td>0.025727</td>\n",
       "      <td>-0.116751</td>\n",
       "    </tr>\n",
       "    <tr>\n",
       "      <th>total_rec_late_fee</th>\n",
       "      <td>-0.094982</td>\n",
       "      <td>0.032027</td>\n",
       "      <td>0.032027</td>\n",
       "      <td>0.036484</td>\n",
       "      <td>-0.007902</td>\n",
       "      <td>0.067418</td>\n",
       "      <td>0.004370</td>\n",
       "      <td>-0.021718</td>\n",
       "      <td>0.065780</td>\n",
       "      <td>0.036885</td>\n",
       "      <td>-0.053863</td>\n",
       "      <td>-0.028457</td>\n",
       "      <td>0.020621</td>\n",
       "      <td>-0.054941</td>\n",
       "      <td>0.035991</td>\n",
       "      <td>1.000000</td>\n",
       "      <td>0.067765</td>\n",
       "      <td>0.018409</td>\n",
       "      <td>-0.004064</td>\n",
       "      <td>-0.142031</td>\n",
       "    </tr>\n",
       "    <tr>\n",
       "      <th>recoveries</th>\n",
       "      <td>0.017169</td>\n",
       "      <td>0.115409</td>\n",
       "      <td>0.115409</td>\n",
       "      <td>0.118513</td>\n",
       "      <td>0.092350</td>\n",
       "      <td>0.111547</td>\n",
       "      <td>0.001940</td>\n",
       "      <td>-0.005662</td>\n",
       "      <td>0.031310</td>\n",
       "      <td>0.062572</td>\n",
       "      <td>-0.006734</td>\n",
       "      <td>0.013801</td>\n",
       "      <td>0.009898</td>\n",
       "      <td>-0.017114</td>\n",
       "      <td>0.040328</td>\n",
       "      <td>0.067765</td>\n",
       "      <td>1.000000</td>\n",
       "      <td>0.929351</td>\n",
       "      <td>-0.002457</td>\n",
       "      <td>-0.244806</td>\n",
       "    </tr>\n",
       "    <tr>\n",
       "      <th>collection_recovery_fee</th>\n",
       "      <td>-0.013945</td>\n",
       "      <td>0.066524</td>\n",
       "      <td>0.066524</td>\n",
       "      <td>0.069710</td>\n",
       "      <td>0.047204</td>\n",
       "      <td>0.057986</td>\n",
       "      <td>-0.004222</td>\n",
       "      <td>-0.018023</td>\n",
       "      <td>0.022787</td>\n",
       "      <td>0.053205</td>\n",
       "      <td>0.000586</td>\n",
       "      <td>0.024449</td>\n",
       "      <td>-0.001391</td>\n",
       "      <td>-0.012146</td>\n",
       "      <td>0.011908</td>\n",
       "      <td>0.018409</td>\n",
       "      <td>0.929351</td>\n",
       "      <td>1.000000</td>\n",
       "      <td>-0.001323</td>\n",
       "      <td>-0.131827</td>\n",
       "    </tr>\n",
       "    <tr>\n",
       "      <th>acc_now_delinq</th>\n",
       "      <td>-0.056849</td>\n",
       "      <td>0.015880</td>\n",
       "      <td>0.015880</td>\n",
       "      <td>0.017406</td>\n",
       "      <td>-0.028659</td>\n",
       "      <td>0.032420</td>\n",
       "      <td>0.016351</td>\n",
       "      <td>0.001674</td>\n",
       "      <td>0.034098</td>\n",
       "      <td>-0.014460</td>\n",
       "      <td>0.028632</td>\n",
       "      <td>-0.004786</td>\n",
       "      <td>-0.013300</td>\n",
       "      <td>-0.004096</td>\n",
       "      <td>0.025727</td>\n",
       "      <td>-0.004064</td>\n",
       "      <td>-0.002457</td>\n",
       "      <td>-0.001323</td>\n",
       "      <td>1.000000</td>\n",
       "      <td>0.010036</td>\n",
       "    </tr>\n",
       "    <tr>\n",
       "      <th>loan_status</th>\n",
       "      <td>-0.074892</td>\n",
       "      <td>-0.126921</td>\n",
       "      <td>-0.126921</td>\n",
       "      <td>-0.122783</td>\n",
       "      <td>-0.092950</td>\n",
       "      <td>-0.228974</td>\n",
       "      <td>0.022438</td>\n",
       "      <td>-0.046470</td>\n",
       "      <td>-0.006626</td>\n",
       "      <td>-0.075137</td>\n",
       "      <td>0.015594</td>\n",
       "      <td>-0.018505</td>\n",
       "      <td>-0.046237</td>\n",
       "      <td>0.024289</td>\n",
       "      <td>-0.116751</td>\n",
       "      <td>-0.142031</td>\n",
       "      <td>-0.244806</td>\n",
       "      <td>-0.131827</td>\n",
       "      <td>0.010036</td>\n",
       "      <td>1.000000</td>\n",
       "    </tr>\n",
       "  </tbody>\n",
       "</table>\n",
       "</div>"
      ],
      "text/plain": [
       "                         member_id     loan   loan_amount  funded_amnt  \\\n",
       "member_id                 1.000000  0.110424     0.110424     0.110821   \n",
       "loan                      0.110424  1.000000     1.000000     0.980086   \n",
       "loan_amount               0.110424  1.000000     1.000000     0.980086   \n",
       "funded_amnt               0.110821  0.980086     0.980086     1.000000   \n",
       "funded_amnt_inv           0.280674  0.913507     0.913507     0.931654   \n",
       "int_rate                  0.014004  0.271344     0.271344     0.275857   \n",
       "annual_inc                0.013144  0.311589     0.311589     0.312008   \n",
       "dti                       0.068410  0.072588     0.072588     0.071150   \n",
       "delinq_2yrs              -0.023942 -0.014643    -0.014643    -0.013592   \n",
       "inq_last_6mths           -0.209187 -0.041757    -0.041757    -0.040907   \n",
       "open_acc                  0.034204  0.183522     0.183522     0.174512   \n",
       "pub_rec                  -0.033624 -0.018902    -0.018902    -0.021536   \n",
       "revol_bal                -0.055076  0.260171     0.260171     0.255548   \n",
       "total_acc                 0.061665  0.252244     0.252244     0.236645   \n",
       "total_rec_int             0.159336  0.698536     0.698536     0.700894   \n",
       "total_rec_late_fee       -0.094982  0.032027     0.032027     0.036484   \n",
       "recoveries                0.017169  0.115409     0.115409     0.118513   \n",
       "collection_recovery_fee  -0.013945  0.066524     0.066524     0.069710   \n",
       "acc_now_delinq           -0.056849  0.015880     0.015880     0.017406   \n",
       "loan_status              -0.074892 -0.126921    -0.126921    -0.122783   \n",
       "\n",
       "                         funded_amnt_inv  int_rate  annual_inc       dti  \\\n",
       "member_id                       0.280674  0.014004    0.013144  0.068410   \n",
       "loan                            0.913507  0.271344    0.311589  0.072588   \n",
       "loan_amount                     0.913507  0.271344    0.311589  0.072588   \n",
       "funded_amnt                     0.931654  0.275857    0.312008  0.071150   \n",
       "funded_amnt_inv                 1.000000  0.263033    0.295785  0.077637   \n",
       "int_rate                        0.263033  1.000000    0.068087  0.106725   \n",
       "annual_inc                      0.295785  0.068087    1.000000 -0.151943   \n",
       "dti                             0.077637  0.106725   -0.151943  1.000000   \n",
       "delinq_2yrs                    -0.027579  0.170373    0.006511 -0.010906   \n",
       "inq_last_6mths                 -0.087884  0.179780    0.009654 -0.001984   \n",
       "open_acc                        0.155806  0.016725    0.187541  0.292671   \n",
       "pub_rec                        -0.029232  0.122628   -0.004419 -0.001355   \n",
       "revol_bal                       0.207110  0.054111    0.280483  0.184564   \n",
       "total_acc                       0.226952 -0.040625    0.267173  0.228875   \n",
       "total_rec_int                   0.684940  0.511407    0.226891  0.094713   \n",
       "total_rec_late_fee             -0.007902  0.067418    0.004370 -0.021718   \n",
       "recoveries                      0.092350  0.111547    0.001940 -0.005662   \n",
       "collection_recovery_fee         0.047204  0.057986   -0.004222 -0.018023   \n",
       "acc_now_delinq                 -0.028659  0.032420    0.016351  0.001674   \n",
       "loan_status                    -0.092950 -0.228974    0.022438 -0.046470   \n",
       "\n",
       "                         delinq_2yrs  inq_last_6mths  open_acc   pub_rec  \\\n",
       "member_id                  -0.023942       -0.209187  0.034204 -0.033624   \n",
       "loan                       -0.014643       -0.041757  0.183522 -0.018902   \n",
       "loan_amount                -0.014643       -0.041757  0.183522 -0.018902   \n",
       "funded_amnt                -0.013592       -0.040907  0.174512 -0.021536   \n",
       "funded_amnt_inv            -0.027579       -0.087884  0.155806 -0.029232   \n",
       "int_rate                    0.170373        0.179780  0.016725  0.122628   \n",
       "annual_inc                  0.006511        0.009654  0.187541 -0.004419   \n",
       "dti                        -0.010906       -0.001984  0.292671 -0.001355   \n",
       "delinq_2yrs                 1.000000       -0.003876  0.017354  0.005944   \n",
       "inq_last_6mths             -0.003876        1.000000  0.087251  0.076561   \n",
       "open_acc                    0.017354        0.087251  1.000000  0.019614   \n",
       "pub_rec                     0.005944        0.076561  0.019614  1.000000   \n",
       "revol_bal                  -0.045800       -0.000484  0.256815 -0.044910   \n",
       "total_acc                   0.054701        0.068498  0.692617 -0.019346   \n",
       "total_rec_int               0.031463       -0.032920  0.138998  0.020799   \n",
       "total_rec_late_fee          0.065780        0.036885 -0.053863 -0.028457   \n",
       "recoveries                  0.031310        0.062572 -0.006734  0.013801   \n",
       "collection_recovery_fee     0.022787        0.053205  0.000586  0.024449   \n",
       "acc_now_delinq              0.034098       -0.014460  0.028632 -0.004786   \n",
       "loan_status                -0.006626       -0.075137  0.015594 -0.018505   \n",
       "\n",
       "                         revol_bal  total_acc  total_rec_int  \\\n",
       "member_id                -0.055076   0.061665       0.159336   \n",
       "loan                      0.260171   0.252244       0.698536   \n",
       "loan_amount               0.260171   0.252244       0.698536   \n",
       "funded_amnt               0.255548   0.236645       0.700894   \n",
       "funded_amnt_inv           0.207110   0.226952       0.684940   \n",
       "int_rate                  0.054111  -0.040625       0.511407   \n",
       "annual_inc                0.280483   0.267173       0.226891   \n",
       "dti                       0.184564   0.228875       0.094713   \n",
       "delinq_2yrs              -0.045800   0.054701       0.031463   \n",
       "inq_last_6mths           -0.000484   0.068498      -0.032920   \n",
       "open_acc                  0.256815   0.692617       0.138998   \n",
       "pub_rec                  -0.044910  -0.019346       0.020799   \n",
       "revol_bal                 1.000000   0.289232       0.172082   \n",
       "total_acc                 0.289232   1.000000       0.142320   \n",
       "total_rec_int             0.172082   0.142320       1.000000   \n",
       "total_rec_late_fee        0.020621  -0.054941       0.035991   \n",
       "recoveries                0.009898  -0.017114       0.040328   \n",
       "collection_recovery_fee  -0.001391  -0.012146       0.011908   \n",
       "acc_now_delinq           -0.013300  -0.004096       0.025727   \n",
       "loan_status              -0.046237   0.024289      -0.116751   \n",
       "\n",
       "                         total_rec_late_fee  recoveries  \\\n",
       "member_id                         -0.094982    0.017169   \n",
       "loan                               0.032027    0.115409   \n",
       "loan_amount                        0.032027    0.115409   \n",
       "funded_amnt                        0.036484    0.118513   \n",
       "funded_amnt_inv                   -0.007902    0.092350   \n",
       "int_rate                           0.067418    0.111547   \n",
       "annual_inc                         0.004370    0.001940   \n",
       "dti                               -0.021718   -0.005662   \n",
       "delinq_2yrs                        0.065780    0.031310   \n",
       "inq_last_6mths                     0.036885    0.062572   \n",
       "open_acc                          -0.053863   -0.006734   \n",
       "pub_rec                           -0.028457    0.013801   \n",
       "revol_bal                          0.020621    0.009898   \n",
       "total_acc                         -0.054941   -0.017114   \n",
       "total_rec_int                      0.035991    0.040328   \n",
       "total_rec_late_fee                 1.000000    0.067765   \n",
       "recoveries                         0.067765    1.000000   \n",
       "collection_recovery_fee            0.018409    0.929351   \n",
       "acc_now_delinq                    -0.004064   -0.002457   \n",
       "loan_status                       -0.142031   -0.244806   \n",
       "\n",
       "                         collection_recovery_fee  acc_now_delinq  loan_status  \n",
       "member_id                              -0.013945       -0.056849    -0.074892  \n",
       "loan                                    0.066524        0.015880    -0.126921  \n",
       "loan_amount                             0.066524        0.015880    -0.126921  \n",
       "funded_amnt                             0.069710        0.017406    -0.122783  \n",
       "funded_amnt_inv                         0.047204       -0.028659    -0.092950  \n",
       "int_rate                                0.057986        0.032420    -0.228974  \n",
       "annual_inc                             -0.004222        0.016351     0.022438  \n",
       "dti                                    -0.018023        0.001674    -0.046470  \n",
       "delinq_2yrs                             0.022787        0.034098    -0.006626  \n",
       "inq_last_6mths                          0.053205       -0.014460    -0.075137  \n",
       "open_acc                                0.000586        0.028632     0.015594  \n",
       "pub_rec                                 0.024449       -0.004786    -0.018505  \n",
       "revol_bal                              -0.001391       -0.013300    -0.046237  \n",
       "total_acc                              -0.012146       -0.004096     0.024289  \n",
       "total_rec_int                           0.011908        0.025727    -0.116751  \n",
       "total_rec_late_fee                      0.018409       -0.004064    -0.142031  \n",
       "recoveries                              0.929351       -0.002457    -0.244806  \n",
       "collection_recovery_fee                 1.000000       -0.001323    -0.131827  \n",
       "acc_now_delinq                         -0.001323        1.000000     0.010036  \n",
       "loan_status                            -0.131827        0.010036     1.000000  "
      ]
     },
     "execution_count": 11,
     "metadata": {},
     "output_type": "execute_result"
    }
   ],
   "source": [
    "df_clean.corr()"
   ]
  },
  {
   "cell_type": "code",
   "execution_count": 12,
   "metadata": {},
   "outputs": [
    {
     "data": {
      "text/plain": [
       "<AxesSubplot:>"
      ]
     },
     "execution_count": 12,
     "metadata": {},
     "output_type": "execute_result"
    },
    {
     "data": {
      "image/png": "[encoded data removed]",
      "text/plain": [
       "<Figure size 1008x1008 with 2 Axes>"
      ]
     },
     "metadata": {
      "needs_background": "light"
     },
     "output_type": "display_data"
    }
   ],
   "source": [
    "plt.figure(figsize=(14,14))\n",
    "sns.heatmap(df[num].corr(),annot=True,square=True,cmap='Set1')"
   ]
  },
  {
   "cell_type": "code",
   "execution_count": 13,
   "metadata": {},
   "outputs": [
    {
     "data": {
      "text/plain": [
       "member_id                  0\n",
       "loan                       0\n",
       "loan_amount                0\n",
       "funded_amnt                0\n",
       "funded_amnt_inv            0\n",
       "int_rate                   0\n",
       "annual_inc                 0\n",
       "dti                        0\n",
       "delinq_2yrs                0\n",
       "inq_last_6mths             0\n",
       "open_acc                   0\n",
       "pub_rec                    0\n",
       "revol_bal                  0\n",
       "total_acc                  0\n",
       "total_rec_int              0\n",
       "total_rec_late_fee         0\n",
       "recoveries                 0\n",
       "collection_recovery_fee    0\n",
       "acc_now_delinq             0\n",
       "loan_status                0\n",
       "dtype: int64"
      ]
     },
     "execution_count": 13,
     "metadata": {},
     "output_type": "execute_result"
    }
   ],
   "source": [
    "df_clean[num].isnull().sum()"
   ]
  },
  {
   "cell_type": "code",
   "execution_count": 14,
   "metadata": {},
   "outputs": [],
   "source": [
    "## Testing code"
   ]
  },
  {
   "cell_type": "code",
   "execution_count": 15,
   "metadata": {},
   "outputs": [],
   "source": [
    "# Create our features\n",
    "X = pd.get_dummies(df_clean.drop('loan_status', axis = 1))\n",
    "\n",
    "# Create our target \n",
    "y = df['loan_status']"
   ]
  },
  {
   "cell_type": "markdown",
   "metadata": {},
   "source": [
    "# Split the Data into Training and Testing"
   ]
  },
  {
   "cell_type": "code",
   "execution_count": 16,
   "metadata": {},
   "outputs": [
    {
     "data": {
      "text/plain": [
       "1    1942\n",
       "0     472\n",
       "Name: loan_status, dtype: int64"
      ]
     },
     "execution_count": 16,
     "metadata": {},
     "output_type": "execute_result"
    }
   ],
   "source": [
    "# Check the balance of our target values\n",
    "y.value_counts()"
   ]
  },
  {
   "cell_type": "code",
   "execution_count": 17,
   "metadata": {},
   "outputs": [
    {
     "data": {
      "text/html": [
       "<div>\n",
       "<style scoped>\n",
       "    .dataframe tbody tr th:only-of-type {\n",
       "        vertical-align: middle;\n",
       "    }\n",
       "\n",
       "    .dataframe tbody tr th {\n",
       "        vertical-align: top;\n",
       "    }\n",
       "\n",
       "    .dataframe thead th {\n",
       "        text-align: right;\n",
       "    }\n",
       "</style>\n",
       "<table border=\"1\" class=\"dataframe\">\n",
       "  <thead>\n",
       "    <tr style=\"text-align: right;\">\n",
       "      <th></th>\n",
       "      <th>member_id</th>\n",
       "      <th>loan</th>\n",
       "      <th>loan_amount</th>\n",
       "      <th>funded_amnt</th>\n",
       "      <th>funded_amnt_inv</th>\n",
       "      <th>int_rate</th>\n",
       "      <th>annual_inc</th>\n",
       "      <th>dti</th>\n",
       "      <th>delinq_2yrs</th>\n",
       "      <th>inq_last_6mths</th>\n",
       "      <th>...</th>\n",
       "      <th>last_week_pay_82th week</th>\n",
       "      <th>last_week_pay_83th week</th>\n",
       "      <th>last_week_pay_87th week</th>\n",
       "      <th>last_week_pay_8th week</th>\n",
       "      <th>last_week_pay_91th week</th>\n",
       "      <th>last_week_pay_92th week</th>\n",
       "      <th>last_week_pay_95th week</th>\n",
       "      <th>last_week_pay_96th week</th>\n",
       "      <th>last_week_pay_9th week</th>\n",
       "      <th>last_week_pay_NAth week</th>\n",
       "    </tr>\n",
       "  </thead>\n",
       "  <tbody>\n",
       "    <tr>\n",
       "      <th>count</th>\n",
       "      <td>2.414000e+03</td>\n",
       "      <td>2414.000000</td>\n",
       "      <td>2.414000e+03</td>\n",
       "      <td>2414.000000</td>\n",
       "      <td>2414.000000</td>\n",
       "      <td>2414.000000</td>\n",
       "      <td>2.414000e+03</td>\n",
       "      <td>2414.000000</td>\n",
       "      <td>2414.000000</td>\n",
       "      <td>2414.000000</td>\n",
       "      <td>...</td>\n",
       "      <td>2414.000000</td>\n",
       "      <td>2414.000000</td>\n",
       "      <td>2414.00000</td>\n",
       "      <td>2414.000000</td>\n",
       "      <td>2414.000000</td>\n",
       "      <td>2414.000000</td>\n",
       "      <td>2414.000000</td>\n",
       "      <td>2414.000000</td>\n",
       "      <td>2414.000000</td>\n",
       "      <td>2414.000000</td>\n",
       "    </tr>\n",
       "    <tr>\n",
       "      <th>mean</th>\n",
       "      <td>7.216943e+05</td>\n",
       "      <td>10839.819801</td>\n",
       "      <td>1.083982e+06</td>\n",
       "      <td>10554.370340</td>\n",
       "      <td>9759.480316</td>\n",
       "      <td>12.159006</td>\n",
       "      <td>7.014700e+04</td>\n",
       "      <td>13.541848</td>\n",
       "      <td>0.149959</td>\n",
       "      <td>1.215824</td>\n",
       "      <td>...</td>\n",
       "      <td>0.002900</td>\n",
       "      <td>0.010356</td>\n",
       "      <td>0.01657</td>\n",
       "      <td>0.001657</td>\n",
       "      <td>0.013256</td>\n",
       "      <td>0.004143</td>\n",
       "      <td>0.001243</td>\n",
       "      <td>0.017813</td>\n",
       "      <td>0.007457</td>\n",
       "      <td>0.003314</td>\n",
       "    </tr>\n",
       "    <tr>\n",
       "      <th>std</th>\n",
       "      <td>2.160963e+05</td>\n",
       "      <td>6904.956843</td>\n",
       "      <td>6.904957e+05</td>\n",
       "      <td>6633.602451</td>\n",
       "      <td>6596.425524</td>\n",
       "      <td>3.580595</td>\n",
       "      <td>6.208022e+04</td>\n",
       "      <td>6.666828</td>\n",
       "      <td>0.507595</td>\n",
       "      <td>1.712023</td>\n",
       "      <td>...</td>\n",
       "      <td>0.053782</td>\n",
       "      <td>0.101258</td>\n",
       "      <td>0.12768</td>\n",
       "      <td>0.040681</td>\n",
       "      <td>0.114393</td>\n",
       "      <td>0.064242</td>\n",
       "      <td>0.035238</td>\n",
       "      <td>0.132298</td>\n",
       "      <td>0.086046</td>\n",
       "      <td>0.057484</td>\n",
       "    </tr>\n",
       "    <tr>\n",
       "      <th>min</th>\n",
       "      <td>7.069400e+04</td>\n",
       "      <td>500.000000</td>\n",
       "      <td>5.000000e+04</td>\n",
       "      <td>500.000000</td>\n",
       "      <td>0.000000</td>\n",
       "      <td>5.320000</td>\n",
       "      <td>6.000000e+03</td>\n",
       "      <td>0.000000</td>\n",
       "      <td>0.000000</td>\n",
       "      <td>0.000000</td>\n",
       "      <td>...</td>\n",
       "      <td>0.000000</td>\n",
       "      <td>0.000000</td>\n",
       "      <td>0.00000</td>\n",
       "      <td>0.000000</td>\n",
       "      <td>0.000000</td>\n",
       "      <td>0.000000</td>\n",
       "      <td>0.000000</td>\n",
       "      <td>0.000000</td>\n",
       "      <td>0.000000</td>\n",
       "      <td>0.000000</td>\n",
       "    </tr>\n",
       "    <tr>\n",
       "      <th>25%</th>\n",
       "      <td>5.928735e+05</td>\n",
       "      <td>5500.000000</td>\n",
       "      <td>5.500000e+05</td>\n",
       "      <td>5425.000000</td>\n",
       "      <td>4875.000000</td>\n",
       "      <td>9.630000</td>\n",
       "      <td>4.145900e+04</td>\n",
       "      <td>8.512500</td>\n",
       "      <td>0.000000</td>\n",
       "      <td>0.000000</td>\n",
       "      <td>...</td>\n",
       "      <td>0.000000</td>\n",
       "      <td>0.000000</td>\n",
       "      <td>0.00000</td>\n",
       "      <td>0.000000</td>\n",
       "      <td>0.000000</td>\n",
       "      <td>0.000000</td>\n",
       "      <td>0.000000</td>\n",
       "      <td>0.000000</td>\n",
       "      <td>0.000000</td>\n",
       "      <td>0.000000</td>\n",
       "    </tr>\n",
       "    <tr>\n",
       "      <th>50%</th>\n",
       "      <td>7.513805e+05</td>\n",
       "      <td>9600.000000</td>\n",
       "      <td>9.600000e+05</td>\n",
       "      <td>9500.000000</td>\n",
       "      <td>8375.000000</td>\n",
       "      <td>12.065000</td>\n",
       "      <td>5.800000e+04</td>\n",
       "      <td>13.625000</td>\n",
       "      <td>0.000000</td>\n",
       "      <td>1.000000</td>\n",
       "      <td>...</td>\n",
       "      <td>0.000000</td>\n",
       "      <td>0.000000</td>\n",
       "      <td>0.00000</td>\n",
       "      <td>0.000000</td>\n",
       "      <td>0.000000</td>\n",
       "      <td>0.000000</td>\n",
       "      <td>0.000000</td>\n",
       "      <td>0.000000</td>\n",
       "      <td>0.000000</td>\n",
       "      <td>0.000000</td>\n",
       "    </tr>\n",
       "    <tr>\n",
       "      <th>75%</th>\n",
       "      <td>9.003872e+05</td>\n",
       "      <td>15000.000000</td>\n",
       "      <td>1.500000e+06</td>\n",
       "      <td>14856.250000</td>\n",
       "      <td>13800.000000</td>\n",
       "      <td>14.720000</td>\n",
       "      <td>8.285500e+04</td>\n",
       "      <td>18.760000</td>\n",
       "      <td>0.000000</td>\n",
       "      <td>2.000000</td>\n",
       "      <td>...</td>\n",
       "      <td>0.000000</td>\n",
       "      <td>0.000000</td>\n",
       "      <td>0.00000</td>\n",
       "      <td>0.000000</td>\n",
       "      <td>0.000000</td>\n",
       "      <td>0.000000</td>\n",
       "      <td>0.000000</td>\n",
       "      <td>0.000000</td>\n",
       "      <td>0.000000</td>\n",
       "      <td>0.000000</td>\n",
       "    </tr>\n",
       "    <tr>\n",
       "      <th>max</th>\n",
       "      <td>1.047261e+06</td>\n",
       "      <td>35000.000000</td>\n",
       "      <td>3.500000e+06</td>\n",
       "      <td>35000.000000</td>\n",
       "      <td>35000.000000</td>\n",
       "      <td>25.570000</td>\n",
       "      <td>1.362000e+06</td>\n",
       "      <td>39.540000</td>\n",
       "      <td>10.000000</td>\n",
       "      <td>28.000000</td>\n",
       "      <td>...</td>\n",
       "      <td>1.000000</td>\n",
       "      <td>1.000000</td>\n",
       "      <td>1.00000</td>\n",
       "      <td>1.000000</td>\n",
       "      <td>1.000000</td>\n",
       "      <td>1.000000</td>\n",
       "      <td>1.000000</td>\n",
       "      <td>1.000000</td>\n",
       "      <td>1.000000</td>\n",
       "      <td>1.000000</td>\n",
       "    </tr>\n",
       "  </tbody>\n",
       "</table>\n",
       "<p>8 rows × 758 columns</p>\n",
       "</div>"
      ],
      "text/plain": [
       "          member_id         loan    loan_amount   funded_amnt  \\\n",
       "count  2.414000e+03   2414.000000  2.414000e+03   2414.000000   \n",
       "mean   7.216943e+05  10839.819801  1.083982e+06  10554.370340   \n",
       "std    2.160963e+05   6904.956843  6.904957e+05   6633.602451   \n",
       "min    7.069400e+04    500.000000  5.000000e+04    500.000000   \n",
       "25%    5.928735e+05   5500.000000  5.500000e+05   5425.000000   \n",
       "50%    7.513805e+05   9600.000000  9.600000e+05   9500.000000   \n",
       "75%    9.003872e+05  15000.000000  1.500000e+06  14856.250000   \n",
       "max    1.047261e+06  35000.000000  3.500000e+06  35000.000000   \n",
       "\n",
       "       funded_amnt_inv     int_rate    annual_inc          dti  delinq_2yrs  \\\n",
       "count      2414.000000  2414.000000  2.414000e+03  2414.000000  2414.000000   \n",
       "mean       9759.480316    12.159006  7.014700e+04    13.541848     0.149959   \n",
       "std        6596.425524     3.580595  6.208022e+04     6.666828     0.507595   \n",
       "min           0.000000     5.320000  6.000000e+03     0.000000     0.000000   \n",
       "25%        4875.000000     9.630000  4.145900e+04     8.512500     0.000000   \n",
       "50%        8375.000000    12.065000  5.800000e+04    13.625000     0.000000   \n",
       "75%       13800.000000    14.720000  8.285500e+04    18.760000     0.000000   \n",
       "max       35000.000000    25.570000  1.362000e+06    39.540000    10.000000   \n",
       "\n",
       "       inq_last_6mths  ...  last_week_pay_82th week  last_week_pay_83th week  \\\n",
       "count     2414.000000  ...              2414.000000              2414.000000   \n",
       "mean         1.215824  ...                 0.002900                 0.010356   \n",
       "std          1.712023  ...                 0.053782                 0.101258   \n",
       "min          0.000000  ...                 0.000000                 0.000000   \n",
       "25%          0.000000  ...                 0.000000                 0.000000   \n",
       "50%          1.000000  ...                 0.000000                 0.000000   \n",
       "75%          2.000000  ...                 0.000000                 0.000000   \n",
       "max         28.000000  ...                 1.000000                 1.000000   \n",
       "\n",
       "       last_week_pay_87th week  last_week_pay_8th week  \\\n",
       "count               2414.00000             2414.000000   \n",
       "mean                   0.01657                0.001657   \n",
       "std                    0.12768                0.040681   \n",
       "min                    0.00000                0.000000   \n",
       "25%                    0.00000                0.000000   \n",
       "50%                    0.00000                0.000000   \n",
       "75%                    0.00000                0.000000   \n",
       "max                    1.00000                1.000000   \n",
       "\n",
       "       last_week_pay_91th week  last_week_pay_92th week  \\\n",
       "count              2414.000000              2414.000000   \n",
       "mean                  0.013256                 0.004143   \n",
       "std                   0.114393                 0.064242   \n",
       "min                   0.000000                 0.000000   \n",
       "25%                   0.000000                 0.000000   \n",
       "50%                   0.000000                 0.000000   \n",
       "75%                   0.000000                 0.000000   \n",
       "max                   1.000000                 1.000000   \n",
       "\n",
       "       last_week_pay_95th week  last_week_pay_96th week  \\\n",
       "count              2414.000000              2414.000000   \n",
       "mean                  0.001243                 0.017813   \n",
       "std                   0.035238                 0.132298   \n",
       "min                   0.000000                 0.000000   \n",
       "25%                   0.000000                 0.000000   \n",
       "50%                   0.000000                 0.000000   \n",
       "75%                   0.000000                 0.000000   \n",
       "max                   1.000000                 1.000000   \n",
       "\n",
       "       last_week_pay_9th week  last_week_pay_NAth week  \n",
       "count             2414.000000              2414.000000  \n",
       "mean                 0.007457                 0.003314  \n",
       "std                  0.086046                 0.057484  \n",
       "min                  0.000000                 0.000000  \n",
       "25%                  0.000000                 0.000000  \n",
       "50%                  0.000000                 0.000000  \n",
       "75%                  0.000000                 0.000000  \n",
       "max                  1.000000                 1.000000  \n",
       "\n",
       "[8 rows x 758 columns]"
      ]
     },
     "execution_count": 17,
     "metadata": {},
     "output_type": "execute_result"
    }
   ],
   "source": [
    "X.describe()"
   ]
  },
  {
   "cell_type": "code",
   "execution_count": 18,
   "metadata": {},
   "outputs": [
    {
     "data": {
      "text/plain": [
       "1    1942\n",
       "0     472\n",
       "Name: loan_status, dtype: int64"
      ]
     },
     "execution_count": 18,
     "metadata": {},
     "output_type": "execute_result"
    }
   ],
   "source": [
    "# Check the balance of our target values\n",
    "y.value_counts()"
   ]
  },
  {
   "cell_type": "code",
   "execution_count": 19,
   "metadata": {},
   "outputs": [
    {
     "data": {
      "text/plain": [
       "(1810, 758)"
      ]
     },
     "execution_count": 19,
     "metadata": {},
     "output_type": "execute_result"
    }
   ],
   "source": [
    "# Create X_train, X_test, y_train, y_test\n",
    "from sklearn.model_selection import train_test_split\n",
    "\n",
    "X_train, X_test, y_train, y_test= train_test_split(X, \n",
    "                                                   y, \n",
    "                                                   random_state=1, \n",
    "                                                   stratify=y)\n",
    "X_train.shape"
   ]
  },
  {
   "cell_type": "markdown",
   "metadata": {},
   "source": [
    "## Data Pre-Processing\n",
    "\n",
    "Scale the training and testing data using the `StandardScaler` from `sklearn`. Remember that when scaling the data, you only scale the features data (`X_train` and `X_testing`)."
   ]
  },
  {
   "cell_type": "code",
   "execution_count": 20,
   "metadata": {},
   "outputs": [],
   "source": [
    "# Manually splitting the data\n",
    "split = int(0.7 * len(X))\n",
    "\n",
    "X_train = X[: split]\n",
    "X_test = X[split:]\n",
    "\n",
    "y_train = y[: split]\n",
    "y_test = y[split:]"
   ]
  },
  {
   "cell_type": "code",
   "execution_count": 21,
   "metadata": {},
   "outputs": [],
   "source": [
    "# Create the StandardScaler instance\n",
    "from sklearn.preprocessing import StandardScaler\n",
    "scaler = StandardScaler()"
   ]
  },
  {
   "cell_type": "code",
   "execution_count": 22,
   "metadata": {},
   "outputs": [],
   "source": [
    "# Fit the Standard Scaler with the training data\n",
    "# When fitting scaling functions, only train on the training dataset\n",
    "X_scaler = scaler.fit(X_train)"
   ]
  },
  {
   "cell_type": "code",
   "execution_count": 23,
   "metadata": {},
   "outputs": [],
   "source": [
    "# Scale the training and testing data\n",
    "X_train_scaled = X_scaler.transform(X_train)\n",
    "X_test_scaled = X_scaler.transform(X_test)"
   ]
  },
  {
   "cell_type": "markdown",
   "metadata": {},
   "source": [
    "# Simple Logistic Regression"
   ]
  },
  {
   "cell_type": "code",
   "execution_count": 24,
   "metadata": {},
   "outputs": [
    {
     "data": {
      "text/plain": [
       "LogisticRegression(random_state=1)"
      ]
     },
     "execution_count": 24,
     "metadata": {},
     "output_type": "execute_result"
    }
   ],
   "source": [
    "from sklearn.linear_model import LogisticRegression\n",
    "slr = LogisticRegression(solver='lbfgs', random_state=1)\n",
    "slr.fit(X_train, y_train)"
   ]
  },
  {
   "cell_type": "code",
   "execution_count": 25,
   "metadata": {},
   "outputs": [],
   "source": [
    "# Calculated the balanced accuracy score\n",
    "from sklearn.metrics import balanced_accuracy_score\n"
   ]
  },
  {
   "cell_type": "code",
   "execution_count": 26,
   "metadata": {},
   "outputs": [],
   "source": [
    "y_pred_slr = slr.predict(X_test_scaled)"
   ]
  },
  {
   "cell_type": "code",
   "execution_count": 27,
   "metadata": {},
   "outputs": [
    {
     "name": "stdout",
     "output_type": "stream",
     "text": [
      "Easy Ensemble Classifier Balance Accuracy Score:  0.656084656084656\n",
      "AUC-ROC Score : 0.656084656084656\n"
     ]
    }
   ],
   "source": [
    "bas_slr=balanced_accuracy_score(y_test, y_pred_slr)\n",
    "print('Easy Ensemble Classifier Balance Accuracy Score: ', bas_slr)\n",
    "print('AUC-ROC Score :',roc_auc_score(y_test, y_pred_slr))"
   ]
  },
  {
   "cell_type": "code",
   "execution_count": 28,
   "metadata": {},
   "outputs": [
    {
     "data": {
      "text/html": [
       "<div>\n",
       "<style scoped>\n",
       "    .dataframe tbody tr th:only-of-type {\n",
       "        vertical-align: middle;\n",
       "    }\n",
       "\n",
       "    .dataframe tbody tr th {\n",
       "        vertical-align: top;\n",
       "    }\n",
       "\n",
       "    .dataframe thead th {\n",
       "        text-align: right;\n",
       "    }\n",
       "</style>\n",
       "<table border=\"1\" class=\"dataframe\">\n",
       "  <thead>\n",
       "    <tr style=\"text-align: right;\">\n",
       "      <th></th>\n",
       "      <th>Predicted Approve</th>\n",
       "      <th>Predicted Deny</th>\n",
       "    </tr>\n",
       "  </thead>\n",
       "  <tbody>\n",
       "    <tr>\n",
       "      <th>Actual Approve</th>\n",
       "      <td>59</td>\n",
       "      <td>130</td>\n",
       "    </tr>\n",
       "    <tr>\n",
       "      <th>Actual Deny</th>\n",
       "      <td>0</td>\n",
       "      <td>536</td>\n",
       "    </tr>\n",
       "  </tbody>\n",
       "</table>\n",
       "</div>"
      ],
      "text/plain": [
       "                Predicted Approve  Predicted Deny\n",
       "Actual Approve                 59             130\n",
       "Actual Deny                     0             536"
      ]
     },
     "execution_count": 28,
     "metadata": {},
     "output_type": "execute_result"
    }
   ],
   "source": [
    "# Display the confusion matrix\n",
    "from sklearn.metrics import confusion_matrix\n",
    "cm = confusion_matrix(y_test, y_pred_slr)\n",
    "cm_df = pd.DataFrame(\n",
    "    cm, \n",
    "    index=[\"Actual Approve\", \"Actual Deny\"],\n",
    "    columns=[\"Predicted Approve\", \"Predicted Deny\"]\n",
    ")\n",
    "cm_df"
   ]
  },
  {
   "cell_type": "code",
   "execution_count": 29,
   "metadata": {},
   "outputs": [
    {
     "name": "stdout",
     "output_type": "stream",
     "text": [
      "                   pre       rec       spe        f1       geo       iba       sup\n",
      "\n",
      "          0       1.00      0.31      1.00      0.48      0.56      0.29       189\n",
      "          1       0.80      1.00      0.31      0.89      0.56      0.33       536\n",
      "\n",
      "avg / total       0.86      0.82      0.49      0.78      0.56      0.32       725\n",
      "\n"
     ]
    }
   ],
   "source": [
    "# Print the imbalanced classification report\n",
    "from imblearn.metrics import classification_report_imbalanced\n",
    "print(classification_report_imbalanced(y_test, y_pred_slr))"
   ]
  },
  {
   "cell_type": "code",
   "execution_count": 30,
   "metadata": {},
   "outputs": [
    {
     "name": "stdout",
     "output_type": "stream",
     "text": [
      "Cross Validation: 0.8993103448275862\n"
     ]
    }
   ],
   "source": [
    "print('Cross Validation:',cross_val_score(slr, X_test_scaled, y_pred_slr, cv=5).mean())\n",
    "# The purpose of cross–validation is to test the ability of a machine learning model to predict new data.\n",
    "# It is also used to flag problems like overfitting or selection bias and gives insights on how the model will\n",
    "# generalize to an independent dataset."
   ]
  },
  {
   "cell_type": "code",
   "execution_count": 31,
   "metadata": {},
   "outputs": [],
   "source": [
    "slr_val = pd.Series(y_test).value_counts()\n",
    "slr_valpred = pd.Series(y_pred_slr).value_counts()\n",
    "slr_x1 = slr_val[1]\n",
    "slr_x2 = slr_val[0]\n",
    "slr_x3 = slr_valpred[1]\n",
    "slr_x4 = slr_valpred[0]"
   ]
  },
  {
   "cell_type": "code",
   "execution_count": 32,
   "metadata": {},
   "outputs": [
    {
     "data": {
      "image/png": "[encoded data removed]",
      "text/plain": [
       "<Figure size 432x288 with 1 Axes>"
      ]
     },
     "metadata": {},
     "output_type": "display_data"
    }
   ],
   "source": [
    "# Pie Plot of Actual Loan Approved\n",
    "explode = (0, 0.1)\n",
    "labels = ['Loan Approved', 'Loan Denied']\n",
    "\n",
    "plt.pie([slr_x1, slr_x2], explode=explode, startangle=0, labels=labels, autopct='%.1f%%', wedgeprops={'linewidth': 3.0, 'edgecolor': 'white'}, textprops={'size': 'medium'}, radius=1)\n",
    "plt.title('SLR Actual Loan Granted Ratio')\n",
    "#plt.savefig('SLR_pie_actu.png')\n",
    "plt.show()"
   ]
  },
  {
   "cell_type": "code",
   "execution_count": 33,
   "metadata": {},
   "outputs": [
    {
     "data": {
      "image/png": "[encoded data removed]",
      "text/plain": [
       "<Figure size 432x288 with 1 Axes>"
      ]
     },
     "metadata": {},
     "output_type": "display_data"
    }
   ],
   "source": [
    "# Pie Plot of Actual Loan Approved\n",
    "explode = (0, 0.1)\n",
    "labels = ['Loan Approved', 'Loan Denied']\n",
    "\n",
    "plt.pie([slr_x3, slr_x4], explode=explode, startangle=0, labels=labels, autopct='%.1f%%', wedgeprops={'linewidth': 3.0, 'edgecolor': 'white'}, textprops={'size': 'medium'}, radius=1)\n",
    "plt.title('SLR Predicted Loan Granted Ratio')\n",
    "plt.savefig('SLR_pie_pred.png')\n",
    "plt.show()"
   ]
  },
  {
   "cell_type": "markdown",
   "metadata": {},
   "source": [
    "# Oversampling\n",
    "Note: Use a random state of 1 for each sampling algorithm to ensure consistency between tests"
   ]
  },
  {
   "cell_type": "markdown",
   "metadata": {},
   "source": [
    "### Naive Random Oversampling"
   ]
  },
  {
   "cell_type": "code",
   "execution_count": 34,
   "metadata": {},
   "outputs": [
    {
     "data": {
      "text/plain": [
       "Counter({0: 1406, 1: 1406})"
      ]
     },
     "execution_count": 34,
     "metadata": {},
     "output_type": "execute_result"
    }
   ],
   "source": [
    "# Resample the training data with the RandomOversampler\n",
    "from imblearn.over_sampling import RandomOverSampler\n",
    "ros = RandomOverSampler(random_state=1)\n",
    "X_resampled_nro, y_resampled_nro = ros.fit_resample(X_train_scaled, y_train)\n",
    "\n",
    "# View the count of target classes with Counter\n",
    "Counter(y_resampled_nro)"
   ]
  },
  {
   "cell_type": "code",
   "execution_count": 35,
   "metadata": {},
   "outputs": [
    {
     "data": {
      "text/plain": [
       "LogisticRegression(random_state=1)"
      ]
     },
     "execution_count": 35,
     "metadata": {},
     "output_type": "execute_result"
    }
   ],
   "source": [
    "# Train the Logistic Regression model using the resampled data\n",
    "from sklearn.linear_model import LogisticRegression\n",
    "\n",
    "model_nro = LogisticRegression(solver='lbfgs', random_state=1)\n",
    "model_nro.fit(X_resampled_nro, y_resampled_nro)"
   ]
  },
  {
   "cell_type": "code",
   "execution_count": 36,
   "metadata": {},
   "outputs": [],
   "source": [
    "# Calculated the balanced accuracy score\n",
    "from sklearn.metrics import balanced_accuracy_score"
   ]
  },
  {
   "cell_type": "code",
   "execution_count": 37,
   "metadata": {},
   "outputs": [],
   "source": [
    "y_pred_nro = model_nro.predict(X_test_scaled)"
   ]
  },
  {
   "cell_type": "code",
   "execution_count": 38,
   "metadata": {},
   "outputs": [
    {
     "name": "stdout",
     "output_type": "stream",
     "text": [
      "Easy Ensemble Classifier Balance Accuracy Score:  0.6676735370765221\n",
      "AUC-ROC Score : 0.6676735370765221\n"
     ]
    }
   ],
   "source": [
    "bas_nro=balanced_accuracy_score(y_test, y_pred_nro)\n",
    "print('Easy Ensemble Classifier Balance Accuracy Score: ', bas_nro)\n",
    "print('AUC-ROC Score :',roc_auc_score(y_test, y_pred_nro))"
   ]
  },
  {
   "cell_type": "code",
   "execution_count": 39,
   "metadata": {},
   "outputs": [
    {
     "data": {
      "text/html": [
       "<div>\n",
       "<style scoped>\n",
       "    .dataframe tbody tr th:only-of-type {\n",
       "        vertical-align: middle;\n",
       "    }\n",
       "\n",
       "    .dataframe tbody tr th {\n",
       "        vertical-align: top;\n",
       "    }\n",
       "\n",
       "    .dataframe thead th {\n",
       "        text-align: right;\n",
       "    }\n",
       "</style>\n",
       "<table border=\"1\" class=\"dataframe\">\n",
       "  <thead>\n",
       "    <tr style=\"text-align: right;\">\n",
       "      <th></th>\n",
       "      <th>Predicted Approve</th>\n",
       "      <th>Predicted Deny</th>\n",
       "    </tr>\n",
       "  </thead>\n",
       "  <tbody>\n",
       "    <tr>\n",
       "      <th>Actual Approve</th>\n",
       "      <td>93</td>\n",
       "      <td>96</td>\n",
       "    </tr>\n",
       "    <tr>\n",
       "      <th>Actual Deny</th>\n",
       "      <td>84</td>\n",
       "      <td>452</td>\n",
       "    </tr>\n",
       "  </tbody>\n",
       "</table>\n",
       "</div>"
      ],
      "text/plain": [
       "                Predicted Approve  Predicted Deny\n",
       "Actual Approve                 93              96\n",
       "Actual Deny                    84             452"
      ]
     },
     "execution_count": 39,
     "metadata": {},
     "output_type": "execute_result"
    }
   ],
   "source": [
    "# Display the confusion matrix\n",
    "from sklearn.metrics import confusion_matrix\n",
    "\n",
    "cm_ros = confusion_matrix(y_test, y_pred_nro)\n",
    "cm_df_ros = pd.DataFrame(\n",
    "    cm_ros,\n",
    "    index=[\"Actual Approve\", \"Actual Deny\"],\n",
    "    columns=[\"Predicted Approve\", \"Predicted Deny\"]\n",
    ")\n",
    "cm_df_ros"
   ]
  },
  {
   "cell_type": "code",
   "execution_count": 40,
   "metadata": {},
   "outputs": [
    {
     "name": "stdout",
     "output_type": "stream",
     "text": [
      "                   pre       rec       spe        f1       geo       iba       sup\n",
      "\n",
      "          0       0.53      0.49      0.84      0.51      0.64      0.40       189\n",
      "          1       0.82      0.84      0.49      0.83      0.64      0.43       536\n",
      "\n",
      "avg / total       0.75      0.75      0.58      0.75      0.64      0.42       725\n",
      "\n"
     ]
    }
   ],
   "source": [
    "# Print the imbalanced classification report\n",
    "from imblearn.metrics import classification_report_imbalanced\n",
    "\n",
    "print(classification_report_imbalanced(y_test, y_pred_nro))"
   ]
  },
  {
   "cell_type": "code",
   "execution_count": 41,
   "metadata": {},
   "outputs": [
    {
     "name": "stdout",
     "output_type": "stream",
     "text": [
      "Cross Validation: 0.8289655172413793\n"
     ]
    }
   ],
   "source": [
    "print('Cross Validation:',cross_val_score(model_nro, X_test_scaled, y_pred_nro, cv=5).mean())\n",
    "# The purpose of cross–validation is to test the ability of a machine learning model to predict new data.\n",
    "# It is also used to flag problems like overfitting or selection bias and gives insights on how the model will\n",
    "# generalize to an independent dataset."
   ]
  },
  {
   "cell_type": "code",
   "execution_count": 42,
   "metadata": {},
   "outputs": [],
   "source": [
    "nro_val = pd.Series(y_test).value_counts()\n",
    "nro_valpred = pd.Series(y_pred_nro).value_counts()\n",
    "nro_x1 = nro_val[1]\n",
    "nro_x2 = nro_val[0]\n",
    "nro_x3 = nro_valpred[1]\n",
    "nro_x4 = nro_valpred[0]"
   ]
  },
  {
   "cell_type": "code",
   "execution_count": 43,
   "metadata": {},
   "outputs": [
    {
     "data": {
      "image/png": "[encoded data removed]",
      "text/plain": [
       "<Figure size 432x288 with 1 Axes>"
      ]
     },
     "metadata": {},
     "output_type": "display_data"
    }
   ],
   "source": [
    "# Pie Plot of Actual Loan Approved\n",
    "explode = (0, 0.1)\n",
    "labels = ['Loan Approved', 'Loan Denied']\n",
    "\n",
    "plt.pie([nro_x1, nro_x2], explode=explode, startangle=0, labels=labels, autopct='%.1f%%', wedgeprops={'linewidth': 3.0, 'edgecolor': 'white'}, textprops={'size': 'medium'}, radius=1)\n",
    "plt.title('NRO Actual Loan Granted Ratio')\n",
    "#plt.savefig('NRO_pie_actu.png')\n",
    "plt.show()"
   ]
  },
  {
   "cell_type": "code",
   "execution_count": 44,
   "metadata": {},
   "outputs": [
    {
     "data": {
      "image/png": "[encoded data removed]",
      "text/plain": [
       "<Figure size 432x288 with 1 Axes>"
      ]
     },
     "metadata": {},
     "output_type": "display_data"
    }
   ],
   "source": [
    "# Pie Plot of Actual Loan Approved\n",
    "explode = (0, 0.1)\n",
    "labels = ['Loan Approved', 'Loan Denied']\n",
    "\n",
    "plt.pie([nro_x3, nro_x4], explode=explode, startangle=0, labels=labels, autopct='%.1f%%', wedgeprops={'linewidth': 3.0, 'edgecolor': 'white'}, textprops={'size': 'medium'}, radius=1)\n",
    "plt.title('NRO Predicted Loan Granted Ratio')\n",
    "plt.savefig('NRO_pie_pred.png')\n",
    "plt.show()"
   ]
  },
  {
   "cell_type": "markdown",
   "metadata": {},
   "source": [
    "### SMOTE Oversampling"
   ]
  },
  {
   "cell_type": "code",
   "execution_count": 45,
   "metadata": {},
   "outputs": [
    {
     "data": {
      "text/plain": [
       "Counter({0: 1406, 1: 1406})"
      ]
     },
     "execution_count": 45,
     "metadata": {},
     "output_type": "execute_result"
    }
   ],
   "source": [
    "# Resample the training data with SMOTE\n",
    "from imblearn.over_sampling import SMOTE\n",
    "\n",
    "X_resampled_smote, y_resampled_smote = SMOTE(random_state=1, sampling_strategy=1.0).fit_resample(\n",
    "    X_train_scaled, y_train\n",
    ")\n",
    "from collections import Counter\n",
    "\n",
    "Counter(y_resampled_smote)"
   ]
  },
  {
   "cell_type": "code",
   "execution_count": 46,
   "metadata": {},
   "outputs": [
    {
     "data": {
      "text/plain": [
       "LogisticRegression(random_state=1)"
      ]
     },
     "execution_count": 46,
     "metadata": {},
     "output_type": "execute_result"
    }
   ],
   "source": [
    "# Train the Logistic Regression model using the resampled data\n",
    "model_smote = LogisticRegression(solver='lbfgs', random_state=1)\n",
    "model_smote.fit(X_resampled_smote, y_resampled_smote)"
   ]
  },
  {
   "cell_type": "code",
   "execution_count": 47,
   "metadata": {},
   "outputs": [],
   "source": [
    "y_pred_smote = model_smote.predict(X_test_scaled)"
   ]
  },
  {
   "cell_type": "code",
   "execution_count": 48,
   "metadata": {},
   "outputs": [
    {
     "name": "stdout",
     "output_type": "stream",
     "text": [
      "Easy Ensemble Classifier Balance Accuracy Score:  0.6497818447445314\n",
      "AUC-ROC Score : 0.6497818447445314\n"
     ]
    }
   ],
   "source": [
    "# Calculated the balanced accuracy score\n",
    "bas_smote=balanced_accuracy_score(y_test, y_pred_smote)\n",
    "print('Easy Ensemble Classifier Balance Accuracy Score: ', bas_smote)\n",
    "print('AUC-ROC Score :',roc_auc_score(y_test, y_pred_smote))"
   ]
  },
  {
   "cell_type": "code",
   "execution_count": 49,
   "metadata": {},
   "outputs": [
    {
     "data": {
      "text/html": [
       "<div>\n",
       "<style scoped>\n",
       "    .dataframe tbody tr th:only-of-type {\n",
       "        vertical-align: middle;\n",
       "    }\n",
       "\n",
       "    .dataframe tbody tr th {\n",
       "        vertical-align: top;\n",
       "    }\n",
       "\n",
       "    .dataframe thead th {\n",
       "        text-align: right;\n",
       "    }\n",
       "</style>\n",
       "<table border=\"1\" class=\"dataframe\">\n",
       "  <thead>\n",
       "    <tr style=\"text-align: right;\">\n",
       "      <th></th>\n",
       "      <th>Predicted Approve</th>\n",
       "      <th>Predicted Deny</th>\n",
       "    </tr>\n",
       "  </thead>\n",
       "  <tbody>\n",
       "    <tr>\n",
       "      <th>Actual Approve</th>\n",
       "      <td>88</td>\n",
       "      <td>101</td>\n",
       "    </tr>\n",
       "    <tr>\n",
       "      <th>Actual Deny</th>\n",
       "      <td>89</td>\n",
       "      <td>447</td>\n",
       "    </tr>\n",
       "  </tbody>\n",
       "</table>\n",
       "</div>"
      ],
      "text/plain": [
       "                Predicted Approve  Predicted Deny\n",
       "Actual Approve                 88             101\n",
       "Actual Deny                    89             447"
      ]
     },
     "execution_count": 49,
     "metadata": {},
     "output_type": "execute_result"
    }
   ],
   "source": [
    "# Display the confusion matrix\n",
    "cm_smote = confusion_matrix(y_test, y_pred_smote)\n",
    "cm_df_smote = pd.DataFrame(\n",
    "    cm_smote,\n",
    "    index=[\"Actual Approve\", \"Actual Deny\"],\n",
    "    columns=[\"Predicted Approve\", \"Predicted Deny\"]\n",
    ")\n",
    "cm_df_smote "
   ]
  },
  {
   "cell_type": "code",
   "execution_count": 50,
   "metadata": {},
   "outputs": [
    {
     "name": "stdout",
     "output_type": "stream",
     "text": [
      "                   pre       rec       spe        f1       geo       iba       sup\n",
      "\n",
      "          0       0.50      0.47      0.83      0.48      0.62      0.37       189\n",
      "          1       0.82      0.83      0.47      0.82      0.62      0.40       536\n",
      "\n",
      "avg / total       0.73      0.74      0.56      0.74      0.62      0.40       725\n",
      "\n"
     ]
    }
   ],
   "source": [
    "# Print the imbalanced classification report\n",
    "print(classification_report_imbalanced(y_test, y_pred_smote))"
   ]
  },
  {
   "cell_type": "code",
   "execution_count": 51,
   "metadata": {},
   "outputs": [
    {
     "name": "stdout",
     "output_type": "stream",
     "text": [
      "Cross Validation: 0.8606896551724137\n"
     ]
    }
   ],
   "source": [
    "print('Cross Validation:',cross_val_score(model_smote, X_test_scaled, y_pred_smote, cv=5).mean())\n",
    "# The purpose of cross–validation is to test the ability of a machine learning model to predict new data.\n",
    "# It is also used to flag problems like overfitting or selection bias and gives insights on how the model will\n",
    "# generalize to an independent dataset."
   ]
  },
  {
   "cell_type": "code",
   "execution_count": 52,
   "metadata": {},
   "outputs": [],
   "source": [
    "smote_val = pd.Series(y_test).value_counts()\n",
    "smote_valpred = pd.Series(y_pred_smote).value_counts()\n",
    "smote_x1 = smote_val[1]\n",
    "smote_x2 = smote_val[0]\n",
    "smote_x3 = smote_valpred[1]\n",
    "smote_x4 = smote_valpred[0]"
   ]
  },
  {
   "cell_type": "code",
   "execution_count": 53,
   "metadata": {},
   "outputs": [
    {
     "data": {
      "image/png": "[encoded data removed]",
      "text/plain": [
       "<Figure size 432x288 with 1 Axes>"
      ]
     },
     "metadata": {},
     "output_type": "display_data"
    }
   ],
   "source": [
    "# Pie Plot of Actual Loan Approved\n",
    "explode = (0, 0.1)\n",
    "labels = ['Loan Approved', 'Loan Denied']\n",
    "\n",
    "plt.pie([nro_x1, nro_x2], explode=explode, startangle=0, labels=labels, autopct='%.1f%%', wedgeprops={'linewidth': 3.0, 'edgecolor': 'white'}, textprops={'size': 'medium'}, radius=1)\n",
    "plt.title('SMOTE Actual Loan Granted Ratio')\n",
    "#plt.savefig('SMOTE_pie_actu.png')\n",
    "plt.show()"
   ]
  },
  {
   "cell_type": "code",
   "execution_count": 54,
   "metadata": {},
   "outputs": [
    {
     "data": {
      "image/png": "[encoded data removed]",
      "text/plain": [
       "<Figure size 432x288 with 1 Axes>"
      ]
     },
     "metadata": {},
     "output_type": "display_data"
    }
   ],
   "source": [
    "# Pie Plot of Actual Loan Approved\n",
    "explode = (0, 0.1)\n",
    "labels = ['Loan Approved', 'Loan Denied']\n",
    "\n",
    "plt.pie([nro_x3, nro_x4], explode=explode, startangle=0, labels=labels, autopct='%.1f%%', wedgeprops={'linewidth': 3.0, 'edgecolor': 'white'}, textprops={'size': 'medium'}, radius=1)\n",
    "plt.title('SMOTE Predicted Loan Granted Ratio')\n",
    "plt.savefig('SMOTE_pie_pred.png')\n",
    "plt.show()"
   ]
  },
  {
   "cell_type": "markdown",
   "metadata": {},
   "source": [
    "# Cluster Centroids Undersampling\n",
    "\n",
    "Note: Use a random state of 1 for each sampling algorithm to ensure consistency between tests"
   ]
  },
  {
   "cell_type": "code",
   "execution_count": 55,
   "metadata": {},
   "outputs": [
    {
     "data": {
      "text/plain": [
       "Counter({0: 283, 1: 283})"
      ]
     },
     "execution_count": 55,
     "metadata": {},
     "output_type": "execute_result"
    }
   ],
   "source": [
    "# Resample the data using the ClusterCentroids resampler\n",
    "from imblearn.under_sampling import ClusterCentroids\n",
    "\n",
    "cc = ClusterCentroids(random_state=1)\n",
    "X_resampled_cc, y_resampled_cc = cc.fit_resample(X_train_scaled, y_train)\n",
    "\n",
    "\n",
    "# View the count of target classes with Counter\n",
    "from collections import Counter\n",
    "\n",
    "Counter(y_resampled_cc)"
   ]
  },
  {
   "cell_type": "code",
   "execution_count": 56,
   "metadata": {},
   "outputs": [
    {
     "data": {
      "text/plain": [
       "LogisticRegression(random_state=1)"
      ]
     },
     "execution_count": 56,
     "metadata": {},
     "output_type": "execute_result"
    }
   ],
   "source": [
    "# Train the Logistic Regression model using the resampled data\n",
    "from sklearn.linear_model import LogisticRegression\n",
    "model_cc = LogisticRegression(solver='lbfgs', random_state=1)\n",
    "model_cc.fit(X_resampled_cc, y_resampled_cc)"
   ]
  },
  {
   "cell_type": "code",
   "execution_count": 57,
   "metadata": {},
   "outputs": [],
   "source": [
    "from sklearn.metrics import balanced_accuracy_score"
   ]
  },
  {
   "cell_type": "code",
   "execution_count": 58,
   "metadata": {},
   "outputs": [],
   "source": [
    "y_pred_cc = model_cc.predict(X_test_scaled)"
   ]
  },
  {
   "cell_type": "code",
   "execution_count": 59,
   "metadata": {},
   "outputs": [
    {
     "name": "stdout",
     "output_type": "stream",
     "text": [
      "Easy Ensemble Classifier Balance Accuracy Score:  0.6870015004343363\n",
      "AUC-ROC Score : 0.6870015004343364\n"
     ]
    }
   ],
   "source": [
    "# Calculate the balanced accuracy score\n",
    "bas_cc=balanced_accuracy_score(y_test, y_pred_cc)\n",
    "print('Easy Ensemble Classifier Balance Accuracy Score: ', bas_cc)\n",
    "print('AUC-ROC Score :',roc_auc_score(y_test, y_pred_cc))"
   ]
  },
  {
   "cell_type": "code",
   "execution_count": 60,
   "metadata": {},
   "outputs": [
    {
     "data": {
      "text/html": [
       "<div>\n",
       "<style scoped>\n",
       "    .dataframe tbody tr th:only-of-type {\n",
       "        vertical-align: middle;\n",
       "    }\n",
       "\n",
       "    .dataframe tbody tr th {\n",
       "        vertical-align: top;\n",
       "    }\n",
       "\n",
       "    .dataframe thead th {\n",
       "        text-align: right;\n",
       "    }\n",
       "</style>\n",
       "<table border=\"1\" class=\"dataframe\">\n",
       "  <thead>\n",
       "    <tr style=\"text-align: right;\">\n",
       "      <th></th>\n",
       "      <th>Predicted Approve</th>\n",
       "      <th>Predicted Deny</th>\n",
       "    </tr>\n",
       "  </thead>\n",
       "  <tbody>\n",
       "    <tr>\n",
       "      <th>Actual Approve</th>\n",
       "      <td>113</td>\n",
       "      <td>76</td>\n",
       "    </tr>\n",
       "    <tr>\n",
       "      <th>Actual Deny</th>\n",
       "      <td>120</td>\n",
       "      <td>416</td>\n",
       "    </tr>\n",
       "  </tbody>\n",
       "</table>\n",
       "</div>"
      ],
      "text/plain": [
       "                Predicted Approve  Predicted Deny\n",
       "Actual Approve                113              76\n",
       "Actual Deny                   120             416"
      ]
     },
     "execution_count": 60,
     "metadata": {},
     "output_type": "execute_result"
    }
   ],
   "source": [
    "# Display the confusion matrix\n",
    "from sklearn.metrics import confusion_matrix\n",
    "cm_cc = confusion_matrix(y_test, y_pred_cc)\n",
    "cm_df_cc = pd.DataFrame(\n",
    "    cm_cc,\n",
    "    index=[\"Actual Approve\", \"Actual Deny\"],\n",
    "    columns=[\"Predicted Approve\", \"Predicted Deny\"]\n",
    ")\n",
    "cm_df_cc"
   ]
  },
  {
   "cell_type": "code",
   "execution_count": 61,
   "metadata": {},
   "outputs": [
    {
     "name": "stdout",
     "output_type": "stream",
     "text": [
      "                   pre       rec       spe        f1       geo       iba       sup\n",
      "\n",
      "          0       0.48      0.60      0.78      0.54      0.68      0.46       189\n",
      "          1       0.85      0.78      0.60      0.81      0.68      0.47       536\n",
      "\n",
      "avg / total       0.75      0.73      0.64      0.74      0.68      0.47       725\n",
      "\n"
     ]
    }
   ],
   "source": [
    "# Print the imbalanced classification report\n",
    "from imblearn.metrics import classification_report_imbalanced\n",
    "print(classification_report_imbalanced(y_test, y_pred_cc))"
   ]
  },
  {
   "cell_type": "code",
   "execution_count": 62,
   "metadata": {},
   "outputs": [
    {
     "name": "stdout",
     "output_type": "stream",
     "text": [
      "Cross Validation: 0.8455172413793104\n"
     ]
    }
   ],
   "source": [
    "print('Cross Validation:',cross_val_score(model_cc, X_test_scaled, y_pred_cc, cv=5).mean())\n",
    "# The purpose of cross–validation is to test the ability of a machine learning model to predict new data.\n",
    "# It is also used to flag problems like overfitting or selection bias and gives insights on how the model will\n",
    "# generalize to an independent dataset."
   ]
  },
  {
   "cell_type": "code",
   "execution_count": 63,
   "metadata": {},
   "outputs": [],
   "source": [
    "cc_val = pd.Series(y_test).value_counts()\n",
    "cc_valpred = pd.Series(y_pred_cc).value_counts()\n",
    "cc_x1 = cc_val[1]\n",
    "cc_x2 = cc_val[0]\n",
    "cc_x3 = cc_valpred[1]\n",
    "cc_x4 = cc_valpred[0]"
   ]
  },
  {
   "cell_type": "code",
   "execution_count": 64,
   "metadata": {},
   "outputs": [
    {
     "data": {
      "image/png": "[encoded data removed]",
      "text/plain": [
       "<Figure size 432x288 with 1 Axes>"
      ]
     },
     "metadata": {},
     "output_type": "display_data"
    }
   ],
   "source": [
    "# Pie Plot of Actual Loan Approved\n",
    "explode = (0, 0.1)\n",
    "labels = ['Loan Approved', 'Loan Denied']\n",
    "\n",
    "plt.pie([cc_x1, cc_x2], explode=explode, startangle=0, labels=labels, autopct='%.1f%%', wedgeprops={'linewidth': 3.0, 'edgecolor': 'white'}, textprops={'size': 'medium'}, radius=1)\n",
    "plt.title('CC Actual Loan Granted Ratio')\n",
    "#plt.savefig('CC_pie_actu.png')\n",
    "plt.show()"
   ]
  },
  {
   "cell_type": "code",
   "execution_count": 65,
   "metadata": {},
   "outputs": [
    {
     "data": {
      "image/png": "[encoded data removed]",
      "text/plain": [
       "<Figure size 432x288 with 1 Axes>"
      ]
     },
     "metadata": {},
     "output_type": "display_data"
    }
   ],
   "source": [
    "# Pie Plot of Actual Loan Approved\n",
    "explode = (0, 0.1)\n",
    "labels = ['Loan Approved', 'Loan Denied']\n",
    "\n",
    "plt.pie([cc_x3, cc_x4], explode=explode, startangle=0, labels=labels, autopct='%.1f%%', wedgeprops={'linewidth': 3.0, 'edgecolor': 'white'}, textprops={'size': 'medium'}, radius=1)\n",
    "plt.title('CC Predicted Loan Granted Ratio')\n",
    "plt.savefig('CC_pie_pred.png')\n",
    "plt.show()"
   ]
  },
  {
   "cell_type": "markdown",
   "metadata": {},
   "source": [
    "# Combination (Over and Under) Sampling\n",
    "\n",
    "Note: Use a random state of 1 for each sampling algorithm to ensure consistency between tests"
   ]
  },
  {
   "cell_type": "code",
   "execution_count": 66,
   "metadata": {},
   "outputs": [
    {
     "data": {
      "text/plain": [
       "Counter({0: 1272, 1: 764})"
      ]
     },
     "execution_count": 66,
     "metadata": {},
     "output_type": "execute_result"
    }
   ],
   "source": [
    "# Resample the training data with SMOTEENN\n",
    "from imblearn.combine import SMOTEENN\n",
    "\n",
    "smote_enn = SMOTEENN(random_state=0)\n",
    "X_resampled_se, y_resampled_se= smote_enn.fit_resample(X_train_scaled, y_train)\n",
    "\n",
    "# View the count of target classes with Counter\n",
    "Counter(y_resampled_se)"
   ]
  },
  {
   "cell_type": "code",
   "execution_count": 67,
   "metadata": {},
   "outputs": [
    {
     "data": {
      "text/plain": [
       "LogisticRegression(random_state=1)"
      ]
     },
     "execution_count": 67,
     "metadata": {},
     "output_type": "execute_result"
    }
   ],
   "source": [
    "# Train the Logistic Regression model using the resampled data\n",
    "from sklearn.linear_model import LogisticRegression\n",
    "model_se = LogisticRegression(solver='lbfgs', random_state=1)\n",
    "model_se.fit(X_resampled_se, y_resampled_se)"
   ]
  },
  {
   "cell_type": "code",
   "execution_count": 68,
   "metadata": {},
   "outputs": [],
   "source": [
    "from sklearn.metrics import balanced_accuracy_score"
   ]
  },
  {
   "cell_type": "code",
   "execution_count": 69,
   "metadata": {},
   "outputs": [],
   "source": [
    "y_pred_se = model_se.predict(X_test_scaled)"
   ]
  },
  {
   "cell_type": "code",
   "execution_count": 70,
   "metadata": {},
   "outputs": [
    {
     "name": "stdout",
     "output_type": "stream",
     "text": [
      "Easy Ensemble Classifier Balance Accuracy Score:  0.6624121456211008\n",
      "AUC-ROC Score : 0.6624121456211008\n"
     ]
    }
   ],
   "source": [
    "# Calculate the balanced accuracy score\n",
    "bas_se=balanced_accuracy_score(y_test, y_pred_se)\n",
    "print('Easy Ensemble Classifier Balance Accuracy Score: ', bas_se)\n",
    "print('AUC-ROC Score :',roc_auc_score(y_test, y_pred_se))"
   ]
  },
  {
   "cell_type": "code",
   "execution_count": 71,
   "metadata": {},
   "outputs": [
    {
     "data": {
      "text/html": [
       "<div>\n",
       "<style scoped>\n",
       "    .dataframe tbody tr th:only-of-type {\n",
       "        vertical-align: middle;\n",
       "    }\n",
       "\n",
       "    .dataframe tbody tr th {\n",
       "        vertical-align: top;\n",
       "    }\n",
       "\n",
       "    .dataframe thead th {\n",
       "        text-align: right;\n",
       "    }\n",
       "</style>\n",
       "<table border=\"1\" class=\"dataframe\">\n",
       "  <thead>\n",
       "    <tr style=\"text-align: right;\">\n",
       "      <th></th>\n",
       "      <th>Predicted Approve</th>\n",
       "      <th>Predicted Deny</th>\n",
       "    </tr>\n",
       "  </thead>\n",
       "  <tbody>\n",
       "    <tr>\n",
       "      <th>Actual Approve</th>\n",
       "      <td>103</td>\n",
       "      <td>86</td>\n",
       "    </tr>\n",
       "    <tr>\n",
       "      <th>Actual Deny</th>\n",
       "      <td>118</td>\n",
       "      <td>418</td>\n",
       "    </tr>\n",
       "  </tbody>\n",
       "</table>\n",
       "</div>"
      ],
      "text/plain": [
       "                Predicted Approve  Predicted Deny\n",
       "Actual Approve                103              86\n",
       "Actual Deny                   118             418"
      ]
     },
     "execution_count": 71,
     "metadata": {},
     "output_type": "execute_result"
    }
   ],
   "source": [
    "# Display the confusion matrix\n",
    "cm_se = confusion_matrix(y_test, y_pred_se)\n",
    "cm_df_se = pd.DataFrame(\n",
    "    cm_se,\n",
    "    index=[\"Actual Approve\", \"Actual Deny\"],\n",
    "    columns=[\"Predicted Approve\", \"Predicted Deny\"]\n",
    ")\n",
    "cm_df_se"
   ]
  },
  {
   "cell_type": "code",
   "execution_count": 72,
   "metadata": {},
   "outputs": [
    {
     "name": "stdout",
     "output_type": "stream",
     "text": [
      "                   pre       rec       spe        f1       geo       iba       sup\n",
      "\n",
      "          0       0.47      0.54      0.78      0.50      0.65      0.42       189\n",
      "          1       0.83      0.78      0.54      0.80      0.65      0.43       536\n",
      "\n",
      "avg / total       0.73      0.72      0.61      0.73      0.65      0.43       725\n",
      "\n"
     ]
    }
   ],
   "source": [
    "# Print the imbalanced classification report\n",
    "from imblearn.metrics import classification_report_imbalanced\n",
    "print(classification_report_imbalanced(y_test, y_pred_se))"
   ]
  },
  {
   "cell_type": "code",
   "execution_count": 73,
   "metadata": {},
   "outputs": [
    {
     "name": "stdout",
     "output_type": "stream",
     "text": [
      "Cross Validation: 0.8524137931034483\n"
     ]
    }
   ],
   "source": [
    "print('Cross Validation:',cross_val_score(model_se, X_test_scaled, y_pred_se, cv=5).mean())\n",
    "# The purpose of cross–validation is to test the ability of a machine learning model to predict new data.\n",
    "# It is also used to flag problems like overfitting or selection bias and gives insights on how the model will\n",
    "# generalize to an independent dataset."
   ]
  },
  {
   "cell_type": "code",
   "execution_count": 74,
   "metadata": {},
   "outputs": [],
   "source": [
    "se_val = pd.Series(y_test).value_counts()\n",
    "se_valpred = pd.Series(y_pred_se).value_counts()\n",
    "se_x1 = se_val[1]\n",
    "se_x2 = se_val[0]\n",
    "se_x3 = se_valpred[1]\n",
    "se_x4 = se_valpred[0]"
   ]
  },
  {
   "cell_type": "code",
   "execution_count": 75,
   "metadata": {},
   "outputs": [
    {
     "data": {
      "image/png": "[encoded data removed]",
      "text/plain": [
       "<Figure size 432x288 with 1 Axes>"
      ]
     },
     "metadata": {},
     "output_type": "display_data"
    }
   ],
   "source": [
    "# Pie Plot of Actual Loan Approved\n",
    "explode = (0, 0.1)\n",
    "labels = ['Loan Approved', 'Loan Denied']\n",
    "\n",
    "plt.pie([se_x1, se_x2], explode=explode, startangle=0, labels=labels, autopct='%.1f%%', wedgeprops={'linewidth': 3.0, 'edgecolor': 'white'}, textprops={'size': 'medium'}, radius=1)\n",
    "plt.title('SE Actual Loan Granted Ratio')\n",
    "#plt.savefig('SE_pie_actu.png')\n",
    "plt.show()"
   ]
  },
  {
   "cell_type": "code",
   "execution_count": 76,
   "metadata": {},
   "outputs": [
    {
     "data": {
      "image/png": "[encoded data removed]",
      "text/plain": [
       "<Figure size 432x288 with 1 Axes>"
      ]
     },
     "metadata": {},
     "output_type": "display_data"
    }
   ],
   "source": [
    "# Pie Plot of Actual Loan Approved\n",
    "explode = (0, 0.1)\n",
    "labels = ['Loan Approved', 'Loan Denied']\n",
    "\n",
    "plt.pie([se_x3, se_x4], explode=explode, startangle=0, labels=labels, autopct='%.1f%%', wedgeprops={'linewidth': 3.0, 'edgecolor': 'white'}, textprops={'size': 'medium'}, radius=1)\n",
    "plt.title('SE Predicted Loan Granted Ratio')\n",
    "plt.savefig('SE_pie_pred.png')\n",
    "plt.show()"
   ]
  },
  {
   "cell_type": "code",
   "execution_count": 77,
   "metadata": {},
   "outputs": [
    {
     "name": "stdout",
     "output_type": "stream",
     "text": [
      "Original data set's balanced accuracy score = 0.656084656084656\n",
      "-------------------------------------------------------------------\n",
      "Naive oversampling balanced accuracy score = 0.6676735370765221 \n",
      "SMOTE (oversampling) balanced accuracy score = 0.6497818447445314 \n",
      "Cluster Centroids (undersampling) balanced accuracy score = 0.6870015004343363 \n",
      "SMOTEENN (over-under sampling combo) balanced accuracy score = 0.6624121456211008 \n"
     ]
    }
   ],
   "source": [
    "print(f\"Original data set's balanced accuracy score = {bas_slr}\")\n",
    "print(f\"-------------------------------------------------------------------\")\n",
    "print(f\"Naive oversampling balanced accuracy score = {bas_nro} \")\n",
    "print(f\"SMOTE (oversampling) balanced accuracy score = {bas_smote} \")\n",
    "print(f\"Cluster Centroids (undersampling) balanced accuracy score = {bas_cc} \")\n",
    "print(f\"SMOTEENN (over-under sampling combo) balanced accuracy score = {bas_se} \")"
   ]
  },
  {
   "cell_type": "markdown",
   "metadata": {},
   "source": [
    "# Interesting Insights\n",
    "\n",
    "1. Which model had the best balanced accuracy score?\n",
    "\n",
    "##### Cluster Centroids (undersampling) has best Balanced Accuracy Scores of: 0.6870015004343363 .\n",
    "\n",
    "2. Which model had the best recall score?\n",
    "\n",
    "##### Simple Linear Regression had the best overall Recall score of: Deny: 0.31, Approve: 1.00, Total: 0.82\n",
    "\n",
    "3. Which model had the best geometric mean score?\n",
    "\n",
    "##### Cluster Centroids (undersampling) had the greatest Geometric Mean scores of: Deny: 0.68, Approve: 0.68, Total: 0.68\n"
   ]
  },
  {
   "cell_type": "code",
   "execution_count": null,
   "metadata": {},
   "outputs": [],
   "source": []
  }
 ],
 "metadata": {
  "kernelspec": {
   "display_name": "Python 3 (ipykernel)",
   "language": "python",
   "name": "python3"
  },
  "language_info": {
   "codemirror_mode": {
    "name": "ipython",
    "version": 3
   },
   "file_extension": ".py",
   "mimetype": "text/x-python",
   "name": "python",
   "nbconvert_exporter": "python",
   "pygments_lexer": "ipython3",
   "version": "3.7.11"
  }
 },
 "nbformat": 4,
 "nbformat_minor": 4
}
