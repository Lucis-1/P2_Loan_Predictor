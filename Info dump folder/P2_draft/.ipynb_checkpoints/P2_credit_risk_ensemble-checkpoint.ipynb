{
 "cells": [
  {
   "cell_type": "markdown",
   "metadata": {},
   "source": [
    "# Ensemble Learning\n",
    "\n",
    "## Initial Imports"
   ]
  },
  {
   "cell_type": "code",
   "execution_count": 1,
   "metadata": {},
   "outputs": [],
   "source": [
    "import warnings\n",
    "warnings.filterwarnings('ignore')\n"
   ]
  },
  {
   "cell_type": "code",
   "execution_count": 2,
   "metadata": {},
   "outputs": [],
   "source": [
    "import numpy as np\n",
    "import pandas as pd\n",
    "from pathlib import Path\n",
    "from collections import Counter\n",
    "import seaborn as sns\n",
    "import matplotlib.pyplot as plt"
   ]
  },
  {
   "cell_type": "code",
   "execution_count": 3,
   "metadata": {},
   "outputs": [],
   "source": [
    "from sklearn.metrics import balanced_accuracy_score\n",
    "from sklearn.metrics import confusion_matrix\n",
    "from sklearn.metrics import roc_auc_score\n",
    "from sklearn.model_selection import cross_val_score\n",
    "from imblearn.metrics import classification_report_imbalanced\n",
    "from sklearn.preprocessing import LabelEncoder, StandardScaler\n",
    "from imblearn.ensemble import BalancedRandomForestClassifier\n",
    "from imblearn.ensemble import EasyEnsembleClassifier"
   ]
  },
  {
   "cell_type": "markdown",
   "metadata": {},
   "source": [
    "## Read the CSV and Perform Basic Data Cleaning"
   ]
  },
  {
   "cell_type": "code",
   "execution_count": 4,
   "metadata": {},
   "outputs": [
    {
     "data": {
      "text/html": [
       "<div>\n",
       "<style scoped>\n",
       "    .dataframe tbody tr th:only-of-type {\n",
       "        vertical-align: middle;\n",
       "    }\n",
       "\n",
       "    .dataframe tbody tr th {\n",
       "        vertical-align: top;\n",
       "    }\n",
       "\n",
       "    .dataframe thead th {\n",
       "        text-align: right;\n",
       "    }\n",
       "</style>\n",
       "<table border=\"1\" class=\"dataframe\">\n",
       "  <thead>\n",
       "    <tr style=\"text-align: right;\">\n",
       "      <th></th>\n",
       "      <th>member_id</th>\n",
       "      <th>loan</th>\n",
       "      <th>loan_amount</th>\n",
       "      <th>funded_amnt</th>\n",
       "      <th>funded_amnt_inv</th>\n",
       "      <th>term</th>\n",
       "      <th>batch_enrolled</th>\n",
       "      <th>int_rate</th>\n",
       "      <th>grade</th>\n",
       "      <th>sub_grade</th>\n",
       "      <th>...</th>\n",
       "      <th>collections_12_mths_ex_med</th>\n",
       "      <th>mths_since_last_major_derog</th>\n",
       "      <th>application_type</th>\n",
       "      <th>verification_status_joint</th>\n",
       "      <th>last_week_pay</th>\n",
       "      <th>acc_now_delinq</th>\n",
       "      <th>tot_coll_amt</th>\n",
       "      <th>tot_cur_bal</th>\n",
       "      <th>total_rev_hi_lim</th>\n",
       "      <th>loan_status</th>\n",
       "    </tr>\n",
       "  </thead>\n",
       "  <tbody>\n",
       "    <tr>\n",
       "      <th>0</th>\n",
       "      <td>70694</td>\n",
       "      <td>5000</td>\n",
       "      <td>500000</td>\n",
       "      <td>5000</td>\n",
       "      <td>350.0</td>\n",
       "      <td>36 months</td>\n",
       "      <td>BAT5869156</td>\n",
       "      <td>11.54</td>\n",
       "      <td>C</td>\n",
       "      <td>C5</td>\n",
       "      <td>...</td>\n",
       "      <td>NaN</td>\n",
       "      <td>NaN</td>\n",
       "      <td>INDIVIDUAL</td>\n",
       "      <td>NaN</td>\n",
       "      <td>35th week</td>\n",
       "      <td>0</td>\n",
       "      <td>NaN</td>\n",
       "      <td>NaN</td>\n",
       "      <td>NaN</td>\n",
       "      <td>0</td>\n",
       "    </tr>\n",
       "    <tr>\n",
       "      <th>1</th>\n",
       "      <td>92502</td>\n",
       "      <td>5000</td>\n",
       "      <td>500000</td>\n",
       "      <td>5000</td>\n",
       "      <td>250.0</td>\n",
       "      <td>36 months</td>\n",
       "      <td>NaN</td>\n",
       "      <td>7.43</td>\n",
       "      <td>A</td>\n",
       "      <td>A2</td>\n",
       "      <td>...</td>\n",
       "      <td>NaN</td>\n",
       "      <td>NaN</td>\n",
       "      <td>INDIVIDUAL</td>\n",
       "      <td>NaN</td>\n",
       "      <td>157th week</td>\n",
       "      <td>0</td>\n",
       "      <td>NaN</td>\n",
       "      <td>NaN</td>\n",
       "      <td>NaN</td>\n",
       "      <td>1</td>\n",
       "    </tr>\n",
       "    <tr>\n",
       "      <th>2</th>\n",
       "      <td>95191</td>\n",
       "      <td>20000</td>\n",
       "      <td>2000000</td>\n",
       "      <td>20000</td>\n",
       "      <td>700.0</td>\n",
       "      <td>36 months</td>\n",
       "      <td>NaN</td>\n",
       "      <td>15.01</td>\n",
       "      <td>F</td>\n",
       "      <td>F1</td>\n",
       "      <td>...</td>\n",
       "      <td>NaN</td>\n",
       "      <td>NaN</td>\n",
       "      <td>INDIVIDUAL</td>\n",
       "      <td>NaN</td>\n",
       "      <td>48th week</td>\n",
       "      <td>0</td>\n",
       "      <td>NaN</td>\n",
       "      <td>NaN</td>\n",
       "      <td>NaN</td>\n",
       "      <td>0</td>\n",
       "    </tr>\n",
       "    <tr>\n",
       "      <th>3</th>\n",
       "      <td>110482</td>\n",
       "      <td>3500</td>\n",
       "      <td>350000</td>\n",
       "      <td>3500</td>\n",
       "      <td>2575.0</td>\n",
       "      <td>36 months</td>\n",
       "      <td></td>\n",
       "      <td>12.17</td>\n",
       "      <td>D</td>\n",
       "      <td>D2</td>\n",
       "      <td>...</td>\n",
       "      <td>NaN</td>\n",
       "      <td>NaN</td>\n",
       "      <td>INDIVIDUAL</td>\n",
       "      <td>NaN</td>\n",
       "      <td>157th week</td>\n",
       "      <td>0</td>\n",
       "      <td>NaN</td>\n",
       "      <td>NaN</td>\n",
       "      <td>NaN</td>\n",
       "      <td>1</td>\n",
       "    </tr>\n",
       "    <tr>\n",
       "      <th>4</th>\n",
       "      <td>118364</td>\n",
       "      <td>16225</td>\n",
       "      <td>1622500</td>\n",
       "      <td>16225</td>\n",
       "      <td>475.0</td>\n",
       "      <td>36 months</td>\n",
       "      <td>BAT4347689</td>\n",
       "      <td>17.86</td>\n",
       "      <td>G</td>\n",
       "      <td>G5</td>\n",
       "      <td>...</td>\n",
       "      <td>NaN</td>\n",
       "      <td>NaN</td>\n",
       "      <td>INDIVIDUAL</td>\n",
       "      <td>NaN</td>\n",
       "      <td>157th week</td>\n",
       "      <td>1</td>\n",
       "      <td>NaN</td>\n",
       "      <td>NaN</td>\n",
       "      <td>NaN</td>\n",
       "      <td>1</td>\n",
       "    </tr>\n",
       "  </tbody>\n",
       "</table>\n",
       "<p>5 rows × 46 columns</p>\n",
       "</div>"
      ],
      "text/plain": [
       "   member_id  loan   loan_amount  funded_amnt  funded_amnt_inv       term  \\\n",
       "0      70694   5000       500000         5000            350.0  36 months   \n",
       "1      92502   5000       500000         5000            250.0  36 months   \n",
       "2      95191  20000      2000000        20000            700.0  36 months   \n",
       "3     110482   3500       350000         3500           2575.0  36 months   \n",
       "4     118364  16225      1622500        16225            475.0  36 months   \n",
       "\n",
       "  batch_enrolled  int_rate grade sub_grade  ... collections_12_mths_ex_med  \\\n",
       "0     BAT5869156     11.54     C        C5  ...                        NaN   \n",
       "1            NaN      7.43     A        A2  ...                        NaN   \n",
       "2            NaN     15.01     F        F1  ...                        NaN   \n",
       "3                    12.17     D        D2  ...                        NaN   \n",
       "4     BAT4347689     17.86     G        G5  ...                        NaN   \n",
       "\n",
       "  mths_since_last_major_derog application_type  verification_status_joint  \\\n",
       "0                         NaN       INDIVIDUAL                        NaN   \n",
       "1                         NaN       INDIVIDUAL                        NaN   \n",
       "2                         NaN       INDIVIDUAL                        NaN   \n",
       "3                         NaN       INDIVIDUAL                        NaN   \n",
       "4                         NaN       INDIVIDUAL                        NaN   \n",
       "\n",
       "  last_week_pay acc_now_delinq tot_coll_amt tot_cur_bal total_rev_hi_lim  \\\n",
       "0     35th week              0          NaN         NaN              NaN   \n",
       "1    157th week              0          NaN         NaN              NaN   \n",
       "2     48th week              0          NaN         NaN              NaN   \n",
       "3    157th week              0          NaN         NaN              NaN   \n",
       "4    157th week              1          NaN         NaN              NaN   \n",
       "\n",
       "  loan_status  \n",
       "0           0  \n",
       "1           1  \n",
       "2           0  \n",
       "3           1  \n",
       "4           1  \n",
       "\n",
       "[5 rows x 46 columns]"
      ]
     },
     "execution_count": 4,
     "metadata": {},
     "output_type": "execute_result"
    }
   ],
   "source": [
    "# Load the data\n",
    "file_path = Path('Resources/credit_y_n_set2.csv')\n",
    "df = pd.read_csv(file_path)\n",
    "\n",
    "# Preview the data\n",
    "df.head()"
   ]
  },
  {
   "cell_type": "code",
   "execution_count": 5,
   "metadata": {},
   "outputs": [
    {
     "data": {
      "text/plain": [
       "member_id                         0\n",
       "loan                              0\n",
       "loan_amount                       0\n",
       "funded_amnt                       0\n",
       "funded_amnt_inv                   0\n",
       "term                              0\n",
       "batch_enrolled                  388\n",
       "int_rate                          0\n",
       "grade                             0\n",
       "sub_grade                         0\n",
       "emp_title                       147\n",
       "emp_length                       58\n",
       "home_ownership                    0\n",
       "annual_inc                        0\n",
       "verification_status               0\n",
       "pymnt_plan                        0\n",
       "desc                            771\n",
       "purpose                           0\n",
       "title                             2\n",
       "zip_code                          0\n",
       "addr_state                        0\n",
       "dti                               0\n",
       "delinq_2yrs                       0\n",
       "inq_last_6mths                    0\n",
       "mths_since_last_delinq         1498\n",
       "mths_since_last_record         2175\n",
       "open_acc                          0\n",
       "pub_rec                           0\n",
       "revol_bal                         0\n",
       "revol_util                        1\n",
       "total_acc                         0\n",
       "initial_list_status               0\n",
       "total_rec_int                     0\n",
       "total_rec_late_fee                0\n",
       "recoveries                        0\n",
       "collection_recovery_fee           0\n",
       "collections_12_mths_ex_med        8\n",
       "mths_since_last_major_derog    2405\n",
       "application_type                  0\n",
       "verification_status_joint      2414\n",
       "last_week_pay                     0\n",
       "acc_now_delinq                    0\n",
       "tot_coll_amt                   2368\n",
       "tot_cur_bal                    2368\n",
       "total_rev_hi_lim               2368\n",
       "loan_status                       0\n",
       "dtype: int64"
      ]
     },
     "execution_count": 5,
     "metadata": {},
     "output_type": "execute_result"
    }
   ],
   "source": [
    "# Cleaning \n",
    "\n",
    "df.isnull().sum()"
   ]
  },
  {
   "cell_type": "code",
   "execution_count": null,
   "metadata": {},
   "outputs": [],
   "source": [
    "sns.set(rc={'figure.figsize':(8,6)})\n",
    "sns.heatmap(df.isnull())"
   ]
  },
  {
   "cell_type": "code",
   "execution_count": null,
   "metadata": {},
   "outputs": [],
   "source": [
    "df_clean = df.copy()"
   ]
  },
  {
   "cell_type": "code",
   "execution_count": null,
   "metadata": {},
   "outputs": [],
   "source": [
    "null_columns = ['batch_enrolled','emp_title', 'emp_length', 'desc', 'title', 'mths_since_last_delinq','mths_since_last_record', 'revol_util',\n",
    "                'collections_12_mths_ex_med', 'mths_since_last_major_derog', 'verification_status_joint', 'tot_coll_amt', 'tot_cur_bal', 'total_rev_hi_lim']\n",
    "df_clean.drop(null_columns, inplace=True, axis=1)"
   ]
  },
  {
   "cell_type": "code",
   "execution_count": null,
   "metadata": {},
   "outputs": [],
   "source": [
    "df_clean"
   ]
  },
  {
   "cell_type": "code",
   "execution_count": null,
   "metadata": {},
   "outputs": [],
   "source": [
    "## getting numeric columns\n",
    "numerics = ['int16', 'int32', 'int64', 'float16', 'float32', 'float64']\n",
    "num = df_clean.select_dtypes(include=numerics).columns\n",
    "num\n",
    "df_clean[num].head(3)"
   ]
  },
  {
   "cell_type": "code",
   "execution_count": null,
   "metadata": {},
   "outputs": [],
   "source": [
    "## getting categorical columns\n",
    "cat = df_clean.drop(num,axis=1)\n",
    "cat = cat.columns\n",
    "df_clean[cat].head(3)"
   ]
  },
  {
   "cell_type": "code",
   "execution_count": null,
   "metadata": {},
   "outputs": [],
   "source": [
    "df_clean.corr()"
   ]
  },
  {
   "cell_type": "code",
   "execution_count": null,
   "metadata": {},
   "outputs": [],
   "source": [
    "plt.figure(figsize=(14,14))\n",
    "sns.heatmap(df[num].corr(),annot=True,square=True,cmap='Set2')"
   ]
  },
  {
   "cell_type": "code",
   "execution_count": null,
   "metadata": {},
   "outputs": [],
   "source": [
    "df_clean[num].isnull().sum()"
   ]
  },
  {
   "cell_type": "markdown",
   "metadata": {},
   "source": [
    "## Testing code"
   ]
  },
  {
   "cell_type": "code",
   "execution_count": null,
   "metadata": {},
   "outputs": [],
   "source": [
    "# Create our features\n",
    "X = pd.get_dummies(df_clean.drop('loan_status', axis = 1))\n",
    "\n",
    "# Create our target \n",
    "y = df['loan_status']"
   ]
  },
  {
   "cell_type": "markdown",
   "metadata": {},
   "source": [
    "## Split the Data into Training and Testing"
   ]
  },
  {
   "cell_type": "code",
   "execution_count": null,
   "metadata": {},
   "outputs": [],
   "source": [
    "# Check the balance of our target values\n",
    "y.value_counts()"
   ]
  },
  {
   "cell_type": "code",
   "execution_count": null,
   "metadata": {},
   "outputs": [],
   "source": [
    "X.describe()"
   ]
  },
  {
   "cell_type": "code",
   "execution_count": null,
   "metadata": {},
   "outputs": [],
   "source": [
    "# Split the X and y into X_train, X_test, y_train, y_test\n",
    "from sklearn.model_selection import train_test_split\n",
    "\n",
    "X_train, X_test, y_train, y_test = train_test_split(X, \n",
    "                                                    y, \n",
    "                                                    random_state=1, \n",
    "                                                    stratify=y)\n",
    "X_train.shape"
   ]
  },
  {
   "cell_type": "markdown",
   "metadata": {},
   "source": [
    "# Data Pre-Processing\n",
    "## Standardizing X\n"
   ]
  },
  {
   "cell_type": "code",
   "execution_count": null,
   "metadata": {},
   "outputs": [],
   "source": [
    "# Manually splitting the data\n",
    "split = int(0.7 * len(X))\n",
    "\n",
    "X_train = X[: split]\n",
    "X_test = X[split:]\n",
    "\n",
    "y_train = y[: split]\n",
    "y_test = y[split:]"
   ]
  },
  {
   "cell_type": "code",
   "execution_count": null,
   "metadata": {},
   "outputs": [],
   "source": [
    "# Create the StandardScaler instance\n",
    "scaler = StandardScaler()"
   ]
  },
  {
   "cell_type": "code",
   "execution_count": null,
   "metadata": {},
   "outputs": [],
   "source": [
    "# Fit the Standard Scaler with the training data\n",
    "# When fitting scaling functions, only train on the training dataset\n",
    "X_scaler = scaler.fit(X_train)"
   ]
  },
  {
   "cell_type": "code",
   "execution_count": null,
   "metadata": {},
   "outputs": [],
   "source": [
    "# Scale the training and testing data\n",
    "X_train_scaled = X_scaler.transform(X_train)\n",
    "X_test_scaled = X_scaler.transform(X_test)"
   ]
  },
  {
   "cell_type": "markdown",
   "metadata": {},
   "source": [
    "## Ensemble Learners"
   ]
  },
  {
   "cell_type": "markdown",
   "metadata": {},
   "source": [
    "### Balanced Random Forest Classifier"
   ]
  },
  {
   "cell_type": "code",
   "execution_count": null,
   "metadata": {},
   "outputs": [],
   "source": [
    "# Resample the training data with the BalancedRandomForestClassifier\n",
    "brf = BalancedRandomForestClassifier(n_estimators=100, random_state=1)\n",
    "brf.fit(X_train_scaled, y_train)"
   ]
  },
  {
   "cell_type": "code",
   "execution_count": null,
   "metadata": {},
   "outputs": [],
   "source": [
    "y_pred_brf = brf.predict(X_test_scaled)"
   ]
  },
  {
   "cell_type": "code",
   "execution_count": null,
   "metadata": {},
   "outputs": [],
   "source": [
    "# Calculated the balanced accuracy score\n",
    "bas_brf=balanced_accuracy_score(y_test, y_pred_brf)\n",
    "print('Easy Ensemble Classifier Balance Accuracy Score: ', bas_brf)\n",
    "print('AUC-ROC Score :',roc_auc_score(y_test, y_pred_brf))"
   ]
  },
  {
   "cell_type": "code",
   "execution_count": null,
   "metadata": {},
   "outputs": [],
   "source": [
    "# Display the confusion matrix\n",
    "cm_brf = confusion_matrix(y_test, y_pred_brf)\n",
    "cm_df_brf = pd.DataFrame(\n",
    "                        cm_brf,\n",
    "                        index=[\"Actual Approve\", \"Actual Deny\"],\n",
    "                        columns=[\"Predicted Approve\", \"Predicted Deny\"]\n",
    ")\n",
    "cm_df_brf"
   ]
  },
  {
   "cell_type": "code",
   "execution_count": null,
   "metadata": {},
   "outputs": [],
   "source": [
    "# List the features sorted in descending order by feature importance\n",
    "importances = brf.feature_importances_\n",
    "importances_sorted = sorted(zip(brf.feature_importances_, X.columns), reverse=True)\n",
    "importances_sorted[:10]"
   ]
  },
  {
   "cell_type": "code",
   "execution_count": null,
   "metadata": {},
   "outputs": [],
   "source": [
    "# List the features sorted in descending order by feature importance\n",
    "importances = brf.feature_importances_\n",
    "feature_importances=pd.Series(importances, index=X_train.columns).sort_values(ascending=False)\n",
    "plt.figure(figsize=(10,7))\n",
    "sns.barplot(x=feature_importances[0:10], y=feature_importances.index[0:10])\n",
    "plt.title('Feature Importance',size=20)\n",
    "plt.ylabel(\"Features\")\n",
    "plt.show()"
   ]
  },
  {
   "cell_type": "code",
   "execution_count": null,
   "metadata": {},
   "outputs": [],
   "source": [
    "# Print the imbalanced classification report\n",
    "print(classification_report_imbalanced(y_test, y_pred_brf))"
   ]
  },
  {
   "cell_type": "code",
   "execution_count": null,
   "metadata": {},
   "outputs": [],
   "source": [
    "print('Cross Validation:',cross_val_score(brf, X_test_scaled, y_pred_brf, cv=5).mean())\n",
    "# The purpose of cross–validation is to test the ability of a machine learning model to predict new data.\n",
    "# It is also used to flag problems like overfitting or selection bias and gives insights on how the model will\n",
    "# generalize to an independent dataset."
   ]
  },
  {
   "cell_type": "code",
   "execution_count": null,
   "metadata": {},
   "outputs": [],
   "source": [
    "brf_val = pd.Series(y_test).value_counts()\n",
    "brf_valpred = pd.Series(y_pred_brf).value_counts()\n",
    "brf_x1 = brf_val[1]\n",
    "brf_x2 = brf_val[0]\n",
    "brf_x3 = brf_valpred[1]\n",
    "brf_x4 = brf_valpred[0]"
   ]
  },
  {
   "cell_type": "code",
   "execution_count": null,
   "metadata": {},
   "outputs": [],
   "source": [
    "# Pie Plot of Actual Loan Approved\n",
    "explode = (0, 0.1)\n",
    "labels = ['Loan Approved', 'Loan Denied']\n",
    "\n",
    "plt.pie([brf_x1, brf_x2], explode=explode, startangle=0, labels=labels, autopct='%.1f%%', wedgeprops={'linewidth': 3.0, 'edgecolor': 'white'}, textprops={'size': 'medium'}, radius=1)\n",
    "plt.title('Actual Loan Granted Ratio for Sample')\n",
    "plt.savefig('Actual_pie_actu.png')\n",
    "plt.show()"
   ]
  },
  {
   "cell_type": "code",
   "execution_count": null,
   "metadata": {},
   "outputs": [],
   "source": [
    "# Pie Plot of Actual Loan Approved\n",
    "explode = (0, 0.1)\n",
    "labels = ['Loan Approved', 'Loan Denied']\n",
    "\n",
    "plt.pie([brf_x1, brf_x2], explode=explode, startangle=0, labels=labels, autopct='%.1f%%', wedgeprops={'linewidth': 3.0, 'edgecolor': 'white'}, textprops={'size': 'medium'}, radius=1)\n",
    "plt.title('BRF Actual Loan Granted Ratio')\n",
    "#plt.savefig('BRF_pie_actu.png')\n",
    "plt.show()"
   ]
  },
  {
   "cell_type": "code",
   "execution_count": null,
   "metadata": {},
   "outputs": [],
   "source": [
    "# Pie Plot of Actual Loan Approved\n",
    "explode = (0, 0.1)\n",
    "labels = ['Loan Approved', 'Loan Denied']\n",
    "\n",
    "plt.pie([brf_x3, brf_x4], explode=explode, startangle=0, labels=labels, autopct='%.1f%%', wedgeprops={'linewidth': 3.0, 'edgecolor': 'white'}, textprops={'size': 'medium'}, radius=1)\n",
    "plt.title('BRF Predicted Loan Granted Ratio')\n",
    "plt.savefig('BRF_pie_pred.png')\n",
    "plt.show()"
   ]
  },
  {
   "cell_type": "markdown",
   "metadata": {},
   "source": [
    "### Easy Ensemble Classifier"
   ]
  },
  {
   "cell_type": "code",
   "execution_count": null,
   "metadata": {},
   "outputs": [],
   "source": [
    "# Train the Classifier\n",
    "eec = EasyEnsembleClassifier(n_estimators=100, random_state=1)\n",
    "eec.fit(X_train_scaled, y_train)"
   ]
  },
  {
   "cell_type": "code",
   "execution_count": null,
   "metadata": {},
   "outputs": [],
   "source": [
    "y_pred_eec = eec.predict(X_test_scaled)"
   ]
  },
  {
   "cell_type": "code",
   "execution_count": null,
   "metadata": {},
   "outputs": [],
   "source": [
    "# Calculated the balanced accuracy score\n",
    "bas_eec=balanced_accuracy_score(y_test, y_pred_brf)\n",
    "print('Easy Ensemble Classifier Balance Accuracy Score: ', bas_eec)\n",
    "print('AUC-ROC Score :',roc_auc_score(y_test, y_pred_eec))"
   ]
  },
  {
   "cell_type": "code",
   "execution_count": null,
   "metadata": {},
   "outputs": [],
   "source": [
    "# Display the confusion matrix\n",
    "cm_eec = confusion_matrix(y_test, y_pred_eec)\n",
    "cm_df_eec = pd.DataFrame(\n",
    "                        cm_eec,\n",
    "                        index=[\"Actual Approve\", \"Actual Deny\"],\n",
    "                        columns=[\"Predicted Approve\", \"Predicted Deny\"]\n",
    ")\n",
    "cm_df_eec"
   ]
  },
  {
   "cell_type": "code",
   "execution_count": null,
   "metadata": {},
   "outputs": [],
   "source": [
    "# Print the imbalanced classification report\n",
    "print(classification_report_imbalanced(y_test, y_pred_eec))"
   ]
  },
  {
   "cell_type": "code",
   "execution_count": null,
   "metadata": {},
   "outputs": [],
   "source": [
    "print('Cross Validation:',cross_val_score(eec, X_test_scaled, y_pred_eec, cv=5).mean())\n",
    "# The purpose of cross–validation is to test the ability of a machine learning model to predict new data.\n",
    "# It is also used to flag problems like overfitting or selection bias and gives insights on how the model will\n",
    "# generalize to an independent dataset."
   ]
  },
  {
   "cell_type": "code",
   "execution_count": null,
   "metadata": {},
   "outputs": [],
   "source": [
    "eec_val = pd.Series(y_test).value_counts()\n",
    "eec_valpred = pd.Series(y_pred_eec).value_counts()\n",
    "eec_x1 = eec_val[1]\n",
    "eec_x2 = eec_val[0]\n",
    "eec_x3 = eec_valpred[1]\n",
    "eec_x4 = eec_valpred[0]"
   ]
  },
  {
   "cell_type": "code",
   "execution_count": null,
   "metadata": {},
   "outputs": [],
   "source": [
    "# Pie Plot of Actual Loan Approved\n",
    "explode = (0, 0.1)\n",
    "labels = ['Loan Approved', 'Loan Denied']\n",
    "\n",
    "plt.pie([eec_x1, eec_x2], explode=explode, startangle=0, labels=labels, autopct='%.1f%%', wedgeprops={'linewidth': 3.0, 'edgecolor': 'white'}, textprops={'size': 'medium'}, radius=1)\n",
    "plt.title('EEC Actual Loan Granted Ratio')\n",
    "#plt.savefig('EEC_pie_actu.png')\n",
    "plt.show()"
   ]
  },
  {
   "cell_type": "code",
   "execution_count": null,
   "metadata": {},
   "outputs": [],
   "source": [
    "# Pie Plot of Actual Loan Approved\n",
    "explode = (0, 0.1)\n",
    "labels = ['Loan Approved', 'Loan Denied']\n",
    "\n",
    "plt.pie([eec_x3, eec_x4], explode=explode, startangle=0, labels=labels, autopct='%.1f%%', wedgeprops={'linewidth': 3.0, 'edgecolor': 'white'}, textprops={'size': 'medium'}, radius=1)\n",
    "plt.title('EEC Predicted Loan Granted Ratio')\n",
    "plt.savefig('EEC_pie_pred.png')\n",
    "plt.show()"
   ]
  },
  {
   "cell_type": "markdown",
   "metadata": {},
   "source": [
    "### Interesting Insights\n",
    "\n",
    "1. Which model had the best balanced accuracy score?\n",
    "\n",
    "    Both models are the same bas value of 0.7843964700307984.\n",
    "\n",
    "2. Which model had the best recall score?\n",
    "\n",
    "    Balanced Random Forest has better recall overall (0.80) when compared to Easy Ensemble Classifier (0.78)\n",
    "\n",
    "3. Which model had the best geometric mean score?\n",
    "\n",
    "    Balanced Random Forest had better geometric mean score of 0.78, opposed to 0.77 by Easy Ensemble\n",
    "    \n",
    "4. What are the top three features?\n",
    "\n",
    "    1. recoveries at 0.10863596676869237,\n",
    "    2. collection_recovery_fee at 0.10642751016251384,\n",
    "    3. int_rate at 0.038298507755025746."
   ]
  },
  {
   "cell_type": "markdown",
   "metadata": {},
   "source": [
    "# XGBoost"
   ]
  },
  {
   "cell_type": "code",
   "execution_count": null,
   "metadata": {},
   "outputs": [],
   "source": [
    "# pip install xgboost"
   ]
  },
  {
   "cell_type": "code",
   "execution_count": null,
   "metadata": {},
   "outputs": [],
   "source": [
    "# Not gone into depth in class. Below are the initialisations\n",
    "\n",
    "from xgboost import XGBClassifier\n",
    "#from plotly.subplots import make_subplots\n",
    "#import plotly.graph_objects as go"
   ]
  },
  {
   "cell_type": "code",
   "execution_count": null,
   "metadata": {},
   "outputs": [],
   "source": [
    "xgb_model = XGBClassifier(n_estimators=50,max_depth=4)"
   ]
  },
  {
   "cell_type": "code",
   "execution_count": null,
   "metadata": {},
   "outputs": [],
   "source": [
    "xgb_model.fit(X_train_scaled, y_train)"
   ]
  },
  {
   "cell_type": "code",
   "execution_count": null,
   "metadata": {},
   "outputs": [],
   "source": [
    "y_pred_xgb=xgb_model.predict(X_test_scaled)"
   ]
  },
  {
   "cell_type": "code",
   "execution_count": null,
   "metadata": {},
   "outputs": [],
   "source": [
    "bas_xgb=balanced_accuracy_score(y_test, y_pred_xgb)\n",
    "print('XGB Balance Accuracy Score: ', bas_xgb)\n",
    "print('AUC-ROC Score :',roc_auc_score(y_test, y_pred_xgb))"
   ]
  },
  {
   "cell_type": "code",
   "execution_count": null,
   "metadata": {},
   "outputs": [],
   "source": [
    "# Display the confusion matrix\n",
    "cm_xgb = confusion_matrix(y_test, y_pred_xgb)\n",
    "cm_df_xgb = pd.DataFrame(\n",
    "                        cm_xgb,\n",
    "                        index=[\"Actual Approve\", \"Actual Deny\"],\n",
    "                        columns=[\"Predicted Approve\", \"Predicted Deny\"]\n",
    ")\n",
    "cm_df_xgb"
   ]
  },
  {
   "cell_type": "code",
   "execution_count": null,
   "metadata": {},
   "outputs": [],
   "source": [
    "# Print the imbalanced classification report\n",
    "print(classification_report_imbalanced(y_test, y_pred_xgb))"
   ]
  },
  {
   "cell_type": "code",
   "execution_count": null,
   "metadata": {},
   "outputs": [],
   "source": [
    "print('Cross Validation:',cross_val_score(xgb_model, X_test_scaled, y_pred_xgb, cv=5).mean())\n",
    "# The purpose of cross–validation is to test the ability of a machine learning model to predict new data.\n",
    "# It is also used to flag problems like overfitting or selection bias and gives insights on how the model will\n",
    "# generalize to an independent dataset."
   ]
  },
  {
   "cell_type": "code",
   "execution_count": null,
   "metadata": {},
   "outputs": [],
   "source": [
    "# List the features sorted in descending order by feature importance\n",
    "importances = xgb_model.feature_importances_\n",
    "feature_importances=pd.Series(importances, index=X_train.columns).sort_values(ascending=False)\n",
    "plt.figure(figsize=(10,7))\n",
    "sns.barplot(x=feature_importances[0:10], y=feature_importances.index[0:10])\n",
    "plt.title('Feature Importance',size=20)\n",
    "plt.ylabel(\"Features\")\n",
    "plt.show()"
   ]
  },
  {
   "cell_type": "code",
   "execution_count": null,
   "metadata": {},
   "outputs": [],
   "source": [
    "xgb_val = pd.Series(y_test).value_counts()\n",
    "xgb_valpred = pd.Series(y_pred_xgb).value_counts()\n",
    "xgb_x1 = xgb_val[1]\n",
    "xgb_x2 = xgb_val[0]\n",
    "xgb_x3 = xgb_valpred[1]\n",
    "xgb_x4 = xgb_valpred[0]"
   ]
  },
  {
   "cell_type": "code",
   "execution_count": null,
   "metadata": {},
   "outputs": [],
   "source": [
    "# Pie Plot of Actual Loan Approved\n",
    "explode = (0, 0.1)\n",
    "labels = ['Loan Approved', 'Loan Denied']\n",
    "\n",
    "plt.pie([xgb_x1, xgb_x2], explode=explode, startangle=0, labels=labels, autopct='%.1f%%', wedgeprops={'linewidth': 3.0, 'edgecolor': 'white'}, textprops={'size': 'medium'}, radius=1)\n",
    "plt.title('XGB Actual Loan Granted Ratio')\n",
    "#plt.savefig('XGB_pie_actu.png')\n",
    "plt.show()"
   ]
  },
  {
   "cell_type": "code",
   "execution_count": 56,
   "metadata": {},
   "outputs": [
    {
     "data": {
      "image/png": "[encoded data removed]",
      "text/plain": [
       "<Figure size 576x432 with 1 Axes>"
      ]
     },
     "metadata": {},
     "output_type": "display_data"
    }
   ],
   "source": [
    "# Pie Plot of Actual Loan Approved\n",
    "explode = (0, 0.1)\n",
    "labels = ['Loan Approved', 'Loan Denied']\n",
    "\n",
    "plt.pie([xgb_x3, xgb_x4], explode=explode, startangle=0, labels=labels, autopct='%.1f%%', wedgeprops={'linewidth': 3.0, 'edgecolor': 'white'}, textprops={'size': 'medium'}, radius=1)\n",
    "plt.title('XGB Predicted Loan Granted Ratio')\n",
    "plt.savefig('XGB_pie_pred.png')\n",
    "plt.show()"
   ]
  }
 ],
 "metadata": {
  "kernelspec": {
   "display_name": "Python 3 (ipykernel)",
   "language": "python",
   "name": "python3"
  },
  "language_info": {
   "codemirror_mode": {
    "name": "ipython",
    "version": 3
   },
   "file_extension": ".py",
   "mimetype": "text/x-python",
   "name": "python",
   "nbconvert_exporter": "python",
   "pygments_lexer": "ipython3",
   "version": "3.7.11"
  }
 },
 "nbformat": 4,
 "nbformat_minor": 4
}
